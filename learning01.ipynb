{
 "cells": [
  {
   "cell_type": "markdown",
   "metadata": {},
   "source": [
    "# This notebook is the start of the \"trial and error approach\""
   ]
  },
  {
   "cell_type": "markdown",
   "metadata": {},
   "source": [
    "References:\n",
    "\n",
    "- https://github.com/xurxodiz/cardwalker/tree/master/oracle\n",
    "- https://laterna--magica.blogspot.com/2011/10/oracle-parser.html"
   ]
  },
  {
   "cell_type": "code",
   "execution_count": null,
   "metadata": {},
   "outputs": [],
   "source": [
    "import json\n",
    "import nltk\n",
    "import pandas as pd\n",
    "import re\n",
    "from collections import defaultdict"
   ]
  },
  {
   "cell_type": "code",
   "execution_count": null,
   "metadata": {},
   "outputs": [],
   "source": [
    "sets = json.load(open('./AllSets.json', 'rb'))"
   ]
  },
  {
   "cell_type": "code",
   "execution_count": null,
   "metadata": {},
   "outputs": [],
   "source": [
    "for k, v in sorted(sets.items()):\n",
    "    print(k, v['name'])"
   ]
  },
  {
   "cell_type": "code",
   "execution_count": null,
   "metadata": {},
   "outputs": [],
   "source": [
    "cards_usaga = sets['USG']['cards']"
   ]
  },
  {
   "cell_type": "code",
   "execution_count": null,
   "metadata": {},
   "outputs": [],
   "source": [
    "cards_usaga"
   ]
  },
  {
   "cell_type": "code",
   "execution_count": null,
   "metadata": {},
   "outputs": [],
   "source": [
    "cards_all=[]\n",
    "for k, sett in sets.items():\n",
    "    if (k in ['UGL', 'UST', 'UNH']) or (len(k)>3): # Ignore Unglued, Unstable and promotional things\n",
    "        continue\n",
    "    for card in sett['cards']:\n",
    "        card['set'] = k\n",
    "    cards_all.extend(sett['cards'])    "
   ]
  },
  {
   "cell_type": "markdown",
   "metadata": {},
   "source": [
    "# Params"
   ]
  },
  {
   "cell_type": "code",
   "execution_count": null,
   "metadata": {},
   "outputs": [],
   "source": [
    "mains_col_names = ['name', 'manaCost', 'text_preworked', 'type', 'power', 'toughness']"
   ]
  },
  {
   "cell_type": "markdown",
   "metadata": {},
   "source": [
    "# Let's start by trying to extract static habilities from cards"
   ]
  },
  {
   "cell_type": "code",
   "execution_count": null,
   "metadata": {},
   "outputs": [],
   "source": [
    "cards_df = pd.DataFrame.from_dict(cards_usaga).set_index('id')"
   ]
  },
  {
   "cell_type": "code",
   "execution_count": null,
   "metadata": {},
   "outputs": [],
   "source": [
    "texts = [card['text'].replace(card['name'], 'SELF') for card in cards_usaga if 'text' in card.keys()]"
   ]
  },
  {
   "cell_type": "code",
   "execution_count": null,
   "metadata": {},
   "outputs": [],
   "source": [
    "patterns = [\n",
    "    (r'^([A-Za-z]+ ?[A-Za-z]+)[$|\\n|,]| \\(', 'STATICABILITY'),\n",
    "    (r', ([A-Za-z]+ ?[A-Za-z]+)[$|\\n||,]| \\(', 'STATICABILITY'),\n",
    "]"
   ]
  },
  {
   "cell_type": "code",
   "execution_count": null,
   "metadata": {},
   "outputs": [],
   "source": [
    "#regexp_tagger = nltk.RegexpTagger(patterns)"
   ]
  },
  {
   "cell_type": "code",
   "execution_count": null,
   "metadata": {},
   "outputs": [],
   "source": [
    "res = defaultdict(list)\n",
    "r=None\n",
    "for text in texts:\n",
    "#     if r: break\n",
    "    for pat, tag in patterns:\n",
    "        r = re.search(pat, text)\n",
    "        if r:\n",
    "            res[text].append((r.groups(), tag))\n",
    "#             break\n",
    "pretty = pd.DataFrame.from_dict(res, orient='index')\n",
    "pretty"
   ]
  },
  {
   "cell_type": "markdown",
   "metadata": {},
   "source": [
    "# DF version: Let's start by trying to extract static habilities from cards"
   ]
  },
  {
   "cell_type": "code",
   "execution_count": null,
   "metadata": {
    "deletable": false,
    "editable": false,
    "run_control": {
     "frozen": true
    }
   },
   "outputs": [],
   "source": [
    "#cards_df = pd.DataFrame.from_dict(cards_usaga)\n",
    "cards_df = pd.DataFrame.from_dict(cards_all)"
   ]
  },
  {
   "cell_type": "code",
   "execution_count": null,
   "metadata": {
    "deletable": false,
    "editable": false,
    "run_control": {
     "frozen": true
    }
   },
   "outputs": [],
   "source": [
    "# Filter out new types\n",
    "#set(cards_df.types.apply(lambda x: tuple(set(x))))\n",
    "ignore_types = ('Conspiracy', 'Eaturecray', 'Phenomenon', 'Plane', 'Planeswalker', 'Scheme', 'Vanguard')"
   ]
  },
  {
   "cell_type": "code",
   "execution_count": null,
   "metadata": {
    "deletable": false,
    "editable": false,
    "run_control": {
     "frozen": true
    }
   },
   "outputs": [],
   "source": [
    "cards_df = cards_df[cards_df.types.apply(lambda x: not set(x).intersection(ignore_types))]"
   ]
  },
  {
   "cell_type": "code",
   "execution_count": null,
   "metadata": {
    "deletable": false,
    "editable": false,
    "run_control": {
     "frozen": true
    }
   },
   "outputs": [],
   "source": [
    "#cards_df.head(4).transpose()"
   ]
  },
  {
   "cell_type": "markdown",
   "metadata": {},
   "source": [
    "## Questions"
   ]
  },
  {
   "cell_type": "markdown",
   "metadata": {},
   "source": [
    "### Does parenthesis contain usefull info or only explanations of abilities/effects?"
   ]
  },
  {
   "cell_type": "markdown",
   "metadata": {},
   "source": [
    "Seems like its always an explanation (so, no usefull info to discern possible targets, zones affected, etc.)"
   ]
  },
  {
   "cell_type": "code",
   "execution_count": null,
   "metadata": {
    "deletable": false,
    "editable": false,
    "run_control": {
     "frozen": true
    }
   },
   "outputs": [],
   "source": [
    "pattern_parenthesis = r'\\((.*?)\\)'\n",
    "test = \"\"\"('Flying',), ('Trample',), ('Paper',), ('First strike',),\n",
    "       ('Phasing',), ('Haste',), ('Flash',), ('Island',), ('Defender',),\n",
    "       ('Blue',), ('Reach',), ('Devour X',), ('Vigilance',),\n",
    "       ('Double strike',), ('Indestructible',), ('Artifacts',),\n",
    "       ('Deathtouch',), ('Lifelink',), ('Menace',), ('Werewolf',),\n",
    "       ('Leviathans',), ('While voting',), ('Flying', 'Demon'),\n",
    "       ('Islandwalk',), ('Hexproof',), ('Plains',), ('Instant',),\n",
    "       ('Swamp',), ('Mountain',), ('Forest',), ('Dinosaur',),\n",
    "       ('Dinosaur Knight',), ('Leviathan',), ('Simultaneously',),\n",
    "       ('Rat',), ('During combat',), ('Investigate',),\n",
    "       ('Minotaur Pirate',), ('Each noncreature',), ('Vampire',),\n",
    "       ('Pyrogenius',), ('Swampwalk',), ('Bolster X',), ('Timebender',),\n",
    "       ('Bold Pyromancer',), ('Scry X',), ('Desertwalk',), ('Prowess',),\n",
    "       ('Martial Paragon',), ('Death Wielder',), ('Equipment',),\n",
    "       ('Valiant Protector',)\"\"\"\n",
    "a = re.findall(pattern_parenthesis, test)\n",
    "a"
   ]
  },
  {
   "cell_type": "code",
   "execution_count": null,
   "metadata": {
    "deletable": false,
    "editable": false,
    "run_control": {
     "frozen": true
    }
   },
   "outputs": [],
   "source": [
    "pattern_parenthesis = r'\\((.*?)\\)'\n",
    "cards_df['in_parentheses'] = cards_df['text'].apply(lambda x: tuple(re.findall(pattern_parenthesis, str(x))))\n",
    "set(cards_df['in_parentheses'])"
   ]
  },
  {
   "cell_type": "code",
   "execution_count": null,
   "metadata": {
    "deletable": false,
    "editable": false,
    "run_control": {
     "frozen": true
    }
   },
   "outputs": [],
   "source": [
    "#This example is not explaning an ability, but it is explaning something (an effect)\n",
    "st = 'If two or more creatures are tied for greatest power, target any one of them.'\n",
    "cards_df[cards_df['text'].str.contains(st).fillna(False)]['text'].values"
   ]
  },
  {
   "cell_type": "markdown",
   "metadata": {},
   "source": [
    "### Remove anything between parenthesis and replace name by SELF"
   ]
  },
  {
   "cell_type": "code",
   "execution_count": null,
   "metadata": {},
   "outputs": [],
   "source": [
    "# Replace name by SELF and remove anything between parethesis\n",
    "pattern_parenthesis = r' ?\\(.*?\\)'\n",
    "def prework_text(card):\n",
    "    t = str(card['text']).replace(card['name'], 'SELF')\n",
    "    t = re.sub(pattern_parenthesis, '', t)\n",
    "    return t\n",
    "    \n",
    "cards_df['text_preworked'] = cards_df.apply(prework_text, axis=1)\n",
    "#cards_df['text_preworked']"
   ]
  },
  {
   "cell_type": "code",
   "execution_count": null,
   "metadata": {},
   "outputs": [],
   "source": [
    "sep = \"ª\"\n",
    "if cards_df['text_preworked'].str.contains(sep).any():\n",
    "    raise Exception(\"Bad separator symbol. It is contained in some text.\")"
   ]
  },
  {
   "cell_type": "code",
   "execution_count": null,
   "metadata": {
    "deletable": false,
    "editable": false,
    "run_control": {
     "frozen": true
    }
   },
   "outputs": [],
   "source": [
    "# replace card names by their ids - DOES NOT WORK: It replaces stuff that are not really card names\n",
    "# for example, just run name_id_dict.get('When')\n",
    "# Repalcing When in the cards will obviously replace a lot of stuff we don't want to\n",
    "name_id_dict = {c['name']: c['id'] for c in cards_all}\n",
    "#name_id_dict\n",
    "temp = sep.join(cards_df['text_preworked'])\n",
    "for i, (name, id_) in enumerate(name_id_dict.items()):\n",
    "    if not i%1000: print(i)\n",
    "    temp = temp.replace(name, id_)\n",
    "cards_df['text_preworked_name_id_replaced'] = temp.split(sep)\n",
    "#cards_df['text_preworked']"
   ]
  },
  {
   "cell_type": "code",
   "execution_count": null,
   "metadata": {},
   "outputs": [],
   "source": [
    "assert cards_df[cards_df['text_preworked'].str.contains('\\(').fillna(False)]['text_preworked'].empty"
   ]
  },
  {
   "cell_type": "markdown",
   "metadata": {},
   "source": [
    "# Domain specific vocabulary"
   ]
  },
  {
   "cell_type": "markdown",
   "metadata": {},
   "source": [
    "Let's build some domain specific vocabulary for MTG. For example, let's list supertypes, types, subtypes, know all card names, this kind f thing."
   ]
  },
  {
   "cell_type": "code",
   "execution_count": null,
   "metadata": {},
   "outputs": [],
   "source": [
    "# Create set of cards names\n",
    "cards_names = set(cards_df.name.unique())"
   ]
  },
  {
   "cell_type": "code",
   "execution_count": null,
   "metadata": {},
   "outputs": [],
   "source": [
    "# Create set of supertypes\n",
    "array_of_supertypes_tuples = cards_df['supertypes'].dropna().apply(tuple).unique()\n",
    "cards_supertypes = tuple()\n",
    "for tup in array_of_supertypes_tuples:\n",
    "    cards_supertypes += tup\n",
    "    \n",
    "cards_supertypes = set(cards_supertypes)\n",
    "cards_supertypes"
   ]
  },
  {
   "cell_type": "code",
   "execution_count": null,
   "metadata": {},
   "outputs": [],
   "source": [
    "# Create set of types\n",
    "array_of_types_tuples = cards_df['types'].dropna().apply(tuple).unique()\n",
    "cards_types = tuple()\n",
    "for tup in array_of_types_tuples:\n",
    "    cards_types += tup\n",
    "    \n",
    "cards_types = set(cards_types)\n",
    "cards_types"
   ]
  },
  {
   "cell_type": "code",
   "execution_count": null,
   "metadata": {},
   "outputs": [],
   "source": [
    "# Create set of types\n",
    "array_of_subtypes_tuples = cards_df['subtypes'].dropna().apply(tuple).unique()\n",
    "cards_subtypes = tuple()\n",
    "for tup in array_of_subtypes_tuples:\n",
    "    cards_subtypes += tup\n",
    "    \n",
    "cards_subtypes = set(cards_subtypes)\n",
    "#cards_subtypes"
   ]
  },
  {
   "cell_type": "code",
   "execution_count": null,
   "metadata": {},
   "outputs": [],
   "source": [
    "#cards_df.head(10).transpose()"
   ]
  },
  {
   "cell_type": "code",
   "execution_count": null,
   "metadata": {
    "deletable": false,
    "editable": false,
    "run_control": {
     "frozen": true
    }
   },
   "outputs": [],
   "source": [
    "import requests\n",
    "import pickle\n",
    "r = requests.get('http://media.wizards.com/2018/downloads/MagicCompRules%2020180713.txt')\n",
    "if not r.status_code == 200:\n",
    "    r.raise_for_status()\n",
    "comprules = r.text"
   ]
  },
  {
   "cell_type": "code",
   "execution_count": null,
   "metadata": {},
   "outputs": [],
   "source": [
    "with open('rules.txt', 'r', encoding='latin-1') as f:\n",
    "    comprules = '\\n'.join(f.readlines())"
   ]
  },
  {
   "cell_type": "code",
   "execution_count": null,
   "metadata": {},
   "outputs": [],
   "source": [
    "kw_abilities_pat = r'702\\.\\d+\\. ([A-Za-z ]+)'\n",
    "abilities = re.findall(kw_abilities_pat, comprules)\n",
    "abilities.pop(0) # Its just the rulings \n",
    "abilities.sort()\n",
    "#abilities"
   ]
  },
  {
   "cell_type": "markdown",
   "metadata": {},
   "source": [
    "## How can we detect an abilities sentence?"
   ]
  },
  {
   "cell_type": "markdown",
   "metadata": {},
   "source": [
    "We should:\n",
    "- Split sentences in a card by '\\n' (=card_sentences_list)\n",
    "- Split each element in card_sentences_list by ', ' (=split_candidate_sentences)\n",
    "- Search for the pattern r'^ability' in each item of split_candidate_sentences\n",
    "- If the pattern is found for evey item, then, split_candidate_sentences is an abilities sentence\n",
    "\n",
    "We can, at the same time, detect activated abilites sentences and \"rest\" sentences (which are not abilites and not triggered abilites ones).\n",
    "- Split sentences in a card by '\\n' (=card_sentences_list)\n",
    "- Those sentences which contain : are activated abilites\n",
    "\n",
    "Sentences which are not in any case above are \"rest\" sentences."
   ]
  },
  {
   "cell_type": "code",
   "execution_count": null,
   "metadata": {},
   "outputs": [],
   "source": [
    "ability_start_pattern = r'|'.join(['^'+ab+r'\\b' for ab in abilities])\n",
    "print(ability_start_pattern)\n",
    "def is_ability_sentence(sentence):\n",
    "    elem_starting_with_ability = []\n",
    "    exceptions = ['Cycling abilities you activate cost up to {2} less to activate.']\n",
    "    if sentence in exceptions:\n",
    "        return False\n",
    "    elems = sentence.split(', ')\n",
    "    for elem in elems:\n",
    "        if re.search(ability_start_pattern, elem):\n",
    "            elem_starting_with_ability.append(re.search(ability_start_pattern, elem))\n",
    "        else:\n",
    "            return False\n",
    "    if len(elems)==len(elem_starting_with_ability):\n",
    "        return True\n",
    "    raise Exception('We should never get here')"
   ]
  },
  {
   "cell_type": "code",
   "execution_count": null,
   "metadata": {
    "deletable": false,
    "editable": false,
    "run_control": {
     "frozen": true
    }
   },
   "outputs": [],
   "source": [
    "df = cards_df\n",
    "df['split_sentences'] = df['text_preworked'].apply(lambda x: x.split('\\n')) # list of sentences\n",
    "df['split_sentences_is_ability'] = df['split_sentences'].apply(lambda x: [is_ability_sentence(y) for y in x])\n",
    "\n",
    "df[df['split_sentences_is_ability'].apply(lambda x: True in x)][\n",
    "    ['split_sentences', 'split_sentences_is_ability']].iloc[1]['split_sentences']"
   ]
  },
  {
   "cell_type": "markdown",
   "metadata": {},
   "source": [
    "### Detect all possible differente abilities text"
   ]
  },
  {
   "cell_type": "code",
   "execution_count": null,
   "metadata": {
    "deletable": false,
    "editable": false,
    "run_control": {
     "frozen": true
    }
   },
   "outputs": [],
   "source": [
    "import itertools\n",
    "ability_sentences = list(itertools.chain.from_iterable(df['split_sentences']))\n",
    "ability_sentences_is_ability = list(itertools.chain.from_iterable(df['split_sentences_is_ability']))\n",
    "abilities_full_set = []\n",
    "for a, b in zip(ability_sentences, ability_sentences_is_ability):\n",
    "    if b: abilities_full_set.append(a)\n",
    "abilities_full_set = set(abilities_full_set)\n",
    "len(abilities_full_set)"
   ]
  },
  {
   "cell_type": "markdown",
   "metadata": {},
   "source": [
    "## Lets detetect all paragraphs types (and keep each ability as a separate paragraph)"
   ]
  },
  {
   "cell_type": "code",
   "execution_count": null,
   "metadata": {},
   "outputs": [],
   "source": [
    "import uuid"
   ]
  },
  {
   "cell_type": "code",
   "execution_count": null,
   "metadata": {},
   "outputs": [],
   "source": [
    "def splitDataFrameList(df,target_column,separator=None):\n",
    "    '''\n",
    "    https://gist.github.com/jlln/338b4b0b55bd6984f883\n",
    "    df = dataframe to split,\n",
    "    target_column = the column containing the values to split\n",
    "    separator = the symbol used to perform the split\n",
    "    returns: a dataframe with each entry for the target column separated, with each element moved into a new row. \n",
    "    The values in the other columns are duplicated across the newly divided rows.\n",
    "    '''\n",
    "    def splitListToRows(row,row_accumulator,target_column,separator):\n",
    "        split_row = row[target_column]#.split(separator)\n",
    "        for s in split_row:\n",
    "            new_row = row.to_dict()\n",
    "            new_row[target_column] = s\n",
    "            row_accumulator.append(new_row)\n",
    "    new_rows = []\n",
    "    df.apply(splitListToRows,axis=1,args = (new_rows,target_column,separator))\n",
    "    new_df = pd.DataFrame(new_rows)\n",
    "    return new_df"
   ]
  },
  {
   "cell_type": "code",
   "execution_count": null,
   "metadata": {
    "deletable": false,
    "editable": false,
    "run_control": {
     "frozen": true
    }
   },
   "outputs": [],
   "source": [
    "df = pd.DataFrame({'name':['a','b','c'], 'c':['a','b','c'], 'b':['a','b','c'], \"items\":[['a1','a2','a3'],['b1','b2','b3'],['c1','c2','c3']]})\n",
    "display(df)\n",
    "test = splitDataFrameList(df, target_column=\"items\")\n",
    "display(test)"
   ]
  },
  {
   "cell_type": "code",
   "execution_count": null,
   "metadata": {},
   "outputs": [],
   "source": [
    "def get_paragraph_type(paragraph):\n",
    "    if is_ability_sentence(paragraph):\n",
    "        return 'ability'\n",
    "    elif ':' in paragraph:\n",
    "        return 'activated'\n",
    "    else:\n",
    "        return 'rest'\n",
    "\n",
    "def split_abilities_and_keep_the_rest(df_row):\n",
    "    '''Returns a list of abilities or a list of one element, which is not ability'''\n",
    "    if df_row['type'] == 'ability':\n",
    "        return df_row['paragraph'].split(',')\n",
    "    \n",
    "    return [df_row['paragraph']]\n",
    "\n",
    "def get_aspas(text):\n",
    "    if pd.isnull(text):\n",
    "        return pd.np.nan\n",
    "    \n",
    "    reg = re.findall(r'\\\"(.+?)\\\"', text)\n",
    "    \n",
    "    if not reg:\n",
    "        return pd.np.nan\n",
    "    \n",
    "    res = reg[0]\n",
    "    \n",
    "    return res\n",
    "        \n",
    "    \n",
    "def get_paragraphs_and_types_df(card_row):\n",
    "    res = pd.DataFrame()\n",
    "    temp = pd.DataFrame()\n",
    "    \n",
    "    # Get initial paragraphs\n",
    "    temp['paragraph'] = card_row['text_preworked'].split('\\n')\n",
    "    temp['ASPAS_TEXT'] = temp['paragraph'].apply(get_aspas)\n",
    "    # TODO CONTINUE FROM HERE CORRECT THIS\n",
    "    temp['paragraph'] = temp.apply(lambda x: x['paragraph'].replace(x['ASPAS_TEXT'], 'ASPAS_TEXT')\n",
    "                                             if not pd.isnull(x['ASPAS_TEXT']) else x['paragraph'],\n",
    "                                  axis=1)\n",
    "    \n",
    "    temp['type'] = temp['paragraph'].apply(get_paragraph_type)\n",
    "    \n",
    "    # Split the abilities paragraphs into multiple rows\n",
    "    temp['paragraph'] = temp.apply(split_abilities_and_keep_the_rest, axis=1)\n",
    "    temp = splitDataFrameList(temp, 'paragraph')\n",
    "    res = temp\n",
    "    \n",
    "    res['card_id'] = card_row.name\n",
    "    res['paragraph_order'] = range(res.shape[0])\n",
    "    res['paragraph_hash'] = [uuid.uuid4().hex for x in range(res.shape[0])]\n",
    "    return res"
   ]
  },
  {
   "cell_type": "code",
   "execution_count": null,
   "metadata": {},
   "outputs": [],
   "source": [
    "cards_df['df_paragraphs'] = cards_df.apply(get_paragraphs_and_types_df, axis=1)"
   ]
  },
  {
   "cell_type": "code",
   "execution_count": null,
   "metadata": {},
   "outputs": [],
   "source": [
    "cards_df[['text_preworked','df_paragraphs']].iloc[21]['df_paragraphs']"
   ]
  },
  {
   "cell_type": "code",
   "execution_count": null,
   "metadata": {},
   "outputs": [],
   "source": [
    "cards_df_paragraphs = pd.concat(cards_df['df_paragraphs'].values)\n",
    "cards_df_paragraphs.head(3)"
   ]
  },
  {
   "cell_type": "code",
   "execution_count": null,
   "metadata": {
    "deletable": false,
    "editable": false,
    "run_control": {
     "frozen": true
    }
   },
   "outputs": [],
   "source": [
    "temp = cards_df_paragraphs[~pd.isnull(cards_df_paragraphs['ASPAS_TEXT'])]\n",
    "temp"
   ]
  },
  {
   "cell_type": "code",
   "execution_count": null,
   "metadata": {
    "deletable": false,
    "editable": false,
    "run_control": {
     "frozen": true
    }
   },
   "outputs": [],
   "source": [
    "# Check if we get a different paragraph order for each ability\n",
    "cards_df_paragraphs[cards_df_paragraphs['type']=='ability'].sort_values(by=['card_id', 'paragraph_order'])"
   ]
  },
  {
   "cell_type": "code",
   "execution_count": null,
   "metadata": {},
   "outputs": [],
   "source": [
    "# Show cards with triggered abilities\n",
    "#cards_df[cards_df['df_sentences'].apply(lambda x: 'activated' in x['type'].values)]"
   ]
  },
  {
   "cell_type": "markdown",
   "metadata": {},
   "source": [
    "## Lets use the same approach and separate paragraphs in abilities-complements, costs-effects and keep the rest as is"
   ]
  },
  {
   "cell_type": "code",
   "execution_count": null,
   "metadata": {},
   "outputs": [],
   "source": [
    "ability_and_complement_regex = r'(' + ability_start_pattern +')' + r'(.*)'\n",
    "ability_and_complement_regex"
   ]
  },
  {
   "cell_type": "code",
   "execution_count": null,
   "metadata": {},
   "outputs": [],
   "source": [
    "def get_pop_and_complements_df(paragraph_row):\n",
    "    res = pd.DataFrame()\n",
    "    pat_ability = re.compile(ability_and_complement_regex)\n",
    "    \n",
    "    if paragraph_row['type'] == 'ability':\n",
    "        \n",
    "        #print(res['pop'].iloc[0])\n",
    "        #print(re.findall(pat, res['pop'].iloc[0]))\n",
    "        x = paragraph_row['paragraph']\n",
    "        if (not pd.isnull(x)) and re.findall(pat_ability, x):\n",
    "            ability = re.findall(pat_ability, x)[0][0].strip()\n",
    "            ability_complement = re.findall(pat_ability, x)[0][1].strip()\n",
    "        else:\n",
    "            import pdb\n",
    "            pdb.set_trace()\n",
    "        \n",
    "        res['pop'] = [ability, ability_complement] \n",
    "        res['pop_type'] =  ['ability', 'ability_complement'] \n",
    "        res['pop_order'] = range(res['pop'].shape[0])\n",
    "    \n",
    "    elif paragraph_row['type'] == 'activated':\n",
    "        '''Break the costs in individual ones'''\n",
    "        costs, effect = paragraph_row['paragraph'].split(':')\n",
    "        \n",
    "        exceptions = ['Pay half your life, rounded up']\n",
    "        if costs in exceptions:\n",
    "            costs = costs.replace(',','')\n",
    "            \n",
    "        res['pop'] =  costs.split(',') + [effect]\n",
    "        types = ['activation_cost' for x in costs.split(',')] + ['activated_effect']\n",
    "        \n",
    "        res['pop_type'] =  types\n",
    "        res['pop_order'] = range(res['pop'].shape[0])\n",
    "        \n",
    "    else:\n",
    "        '''Keep the rest as rest or effect'''\n",
    "        effect = paragraph_row['paragraph']\n",
    "        \n",
    "        res['pop'] =  [effect]\n",
    "        res['pop_type'] =  ['effect']\n",
    "        res['pop_order'] = range(res['pop'].shape[0])\n",
    "        \n",
    "        \n",
    "    res['card_id'] = paragraph_row['card_id']\n",
    "    res['paragraph_order'] = paragraph_row['paragraph_order']\n",
    "    res['paragraph_hash'] = paragraph_row['paragraph_hash']\n",
    "    return res"
   ]
  },
  {
   "cell_type": "code",
   "execution_count": null,
   "metadata": {},
   "outputs": [],
   "source": [
    "cards_df_paragraphs['pop'] = cards_df_paragraphs.apply(get_pop_and_complements_df, axis=1)"
   ]
  },
  {
   "cell_type": "code",
   "execution_count": null,
   "metadata": {},
   "outputs": [],
   "source": [
    "cards_df_paragraphs.iloc[3]['pop']"
   ]
  },
  {
   "cell_type": "code",
   "execution_count": null,
   "metadata": {},
   "outputs": [],
   "source": [
    "cards_df_pops = pd.concat(cards_df_paragraphs['pop'].values, sort=True)\n",
    "cards_df_pops['pop_hash'] = cards_df_pops['pop'].apply(lambda x: uuid.uuid4().hex)\n",
    "cards_df_pops.sort_values(by=['card_id','paragraph_order','pop_order']).head(3)"
   ]
  },
  {
   "cell_type": "code",
   "execution_count": null,
   "metadata": {
    "deletable": false,
    "editable": false,
    "run_control": {
     "frozen": true
    }
   },
   "outputs": [],
   "source": [
    "activated_ability_paragraph_hash = cards_df_paragraphs[cards_df_paragraphs['type']=='activated'].sample(1)['paragraph_hash'].iloc[0]\n",
    "cards_df_pops[cards_df_pops['paragraph_hash']==activated_ability_paragraph_hash]"
   ]
  },
  {
   "cell_type": "code",
   "execution_count": null,
   "metadata": {
    "deletable": false,
    "editable": false,
    "run_control": {
     "frozen": true
    }
   },
   "outputs": [],
   "source": [
    "investigate = '08038de1ded341a1b63f792d29b8dad8'\n",
    "cards_df_pops[cards_df_pops['paragraph_hash']==investigate]"
   ]
  },
  {
   "cell_type": "code",
   "execution_count": null,
   "metadata": {
    "deletable": false,
    "editable": false,
    "run_control": {
     "frozen": true
    }
   },
   "outputs": [],
   "source": [
    "#investigate = cards_df_pops[cards_df_pops['pop']=='Creatures you control have \"{T}'].iloc[0]['card_id']\n",
    "investigate = '7011018896f7a9a24b7f9dff722a7e990c43922b'\n",
    "cards_df_pops[cards_df_pops['card_id']==investigate]"
   ]
  },
  {
   "cell_type": "code",
   "execution_count": null,
   "metadata": {
    "deletable": false,
    "editable": false,
    "run_control": {
     "frozen": true
    }
   },
   "outputs": [],
   "source": [
    "#investigate = cards_df_pops[cards_df_pops['pop']=='Creatures you control have \"{T}'].iloc[0]['card_id']\n",
    "investigate = 'ade9880f3121cdf8db57c3f4ba0375c843ec14c0'\n",
    "cards_df_pops[cards_df_pops['card_id']==investigate]"
   ]
  },
  {
   "cell_type": "code",
   "execution_count": null,
   "metadata": {
    "deletable": false,
    "editable": false,
    "run_control": {
     "frozen": true
    }
   },
   "outputs": [],
   "source": [
    "cards_df_pops[cards_df_pops['pop']=='Pay half your life']"
   ]
  },
  {
   "cell_type": "code",
   "execution_count": null,
   "metadata": {},
   "outputs": [],
   "source": [
    "cards_df_pops[cards_df_pops['pop_type']=='activation_cost']['pop'].dropna().unique()"
   ]
  },
  {
   "cell_type": "code",
   "execution_count": null,
   "metadata": {},
   "outputs": [],
   "source": [
    "# Count how many abilities, activated abilities and effects there are\n",
    "cards_df_pops['cont'] = 1\n",
    "\n",
    "index = ['pop_type']\n",
    "values = ['cont']\n",
    "\n",
    "pivot_pop = cards_df_pops.pivot_table(index=index, values=values, aggfunc=pd.np.sum)\n",
    "pivot_pop"
   ]
  },
  {
   "cell_type": "code",
   "execution_count": null,
   "metadata": {},
   "outputs": [],
   "source": [
    "# Show cards with triggered abilities\n",
    "#cards_df[cards_df['df_sentences'].apply(lambda x: 'activated' in x['type'].values)]"
   ]
  },
  {
   "cell_type": "markdown",
   "metadata": {},
   "source": [
    "## Lets use the same approach and separatev conditions-\"result effect\""
   ]
  },
  {
   "cell_type": "code",
   "execution_count": null,
   "metadata": {},
   "outputs": [],
   "source": [
    "condition_regex = r'((?:if |whenever |when |only ).*?[,.])'\n",
    "condition_regex"
   ]
  },
  {
   "cell_type": "code",
   "execution_count": null,
   "metadata": {},
   "outputs": [],
   "source": [
    "def get_condition(text):\n",
    "    if pd.isnull(text):\n",
    "        return None\n",
    "    \n",
    "    reg = re.findall(condition_regex, text, flags=re.IGNORECASE)\n",
    "    if not reg:\n",
    "        return None\n",
    "    \n",
    "    return reg\n",
    "\n",
    "def clean_effect_from_condition(row):\n",
    "    clean_effect = row['pop']\n",
    "    \n",
    "    if (not row['condition']):\n",
    "        return clean_effect\n",
    "    \n",
    "    condition = ''.join(row['condition'])\n",
    "    clean_effect = clean_effect.replace(condition, '')\n",
    "    return clean_effect\n",
    "    \n",
    "cards_df_pops['condition'] = cards_df_pops['pop'].apply(get_condition)\n",
    "cards_df_pops['effect_wo_condition'] = cards_df_pops.apply(clean_effect_from_condition, axis=1)"
   ]
  },
  {
   "cell_type": "code",
   "execution_count": null,
   "metadata": {},
   "outputs": [],
   "source": [
    "idx=5\n",
    "display(cards_df_pops[~pd.isnull(cards_df_pops['condition'])])\n",
    "display(cards_df_pops[~pd.isnull(cards_df_pops['condition'])].iloc[idx]['pop'])\n",
    "cards_df_pops[~pd.isnull(cards_df_pops['condition'])].iloc[idx]['condition']"
   ]
  },
  {
   "cell_type": "markdown",
   "metadata": {},
   "source": [
    "## Investingating abilities"
   ]
  },
  {
   "cell_type": "markdown",
   "metadata": {
    "deletable": false,
    "editable": false,
    "run_control": {
     "frozen": true
    }
   },
   "source": [
    "Now, how to work with abilites followed by cost?"
   ]
  },
  {
   "cell_type": "code",
   "execution_count": null,
   "metadata": {
    "deletable": false,
    "editable": false,
    "run_control": {
     "frozen": true
    }
   },
   "outputs": [],
   "source": [
    "def detect_abilities_sentence(sentlist):\n",
    "    for sent in sentlist:\n",
    "        if set(sent.split(', ')).issubset(set(abilities)):\n",
    "            return True\n",
    "    return False\n",
    "t = df['split_sentences'].apply(detect_abilities_sentence)\n",
    "df[t][df['text'].str.contains('umulative upkeep').fillna(False)]['text_preworked']"
   ]
  },
  {
   "cell_type": "code",
   "execution_count": null,
   "metadata": {
    "deletable": false,
    "editable": false,
    "run_control": {
     "frozen": true
    }
   },
   "outputs": [],
   "source": [
    "df[df['text'].str.contains('umulative upkeep').fillna(False)]['text_preworked'].loc[30808]"
   ]
  },
  {
   "cell_type": "markdown",
   "metadata": {
    "deletable": false,
    "editable": false,
    "run_control": {
     "frozen": true
    }
   },
   "source": [
    "### Deal with cummulative upkeep"
   ]
  },
  {
   "cell_type": "markdown",
   "metadata": {
    "deletable": false,
    "editable": false,
    "run_control": {
     "frozen": true
    }
   },
   "source": [
    "Seems like, if followed by mana cost, cumulative upkeep COST may be followed by , (comma) or \\n (newline). But if the text for cumulative upkeep is longer, it seems to end with \\n everytime."
   ]
  },
  {
   "cell_type": "code",
   "execution_count": null,
   "metadata": {
    "deletable": false,
    "editable": false,
    "run_control": {
     "frozen": true
    }
   },
   "outputs": [],
   "source": [
    "# Check that these things are always the same\n",
    "cumulative_upkeep_pattern1 = r'(?:, )?cumulative upkeep—.*?[.]'\n",
    "cumulative_upkeep_pattern2 = r'(?:, )?cumulative upkeep—.*?[.\\n]'\n",
    "print(cumulative_upkeep_pattern1)\n",
    "def get_cumup1(xstr):\n",
    "    res = re.findall(cumulative_upkeep_pattern1, str(xstr), re.IGNORECASE)\n",
    "    if res:\n",
    "        return res\n",
    "    return pd.np.nan\n",
    "def get_cumup2(xstr):\n",
    "    res = re.findall(cumulative_upkeep_pattern2, str(xstr), re.IGNORECASE)\n",
    "    if res:\n",
    "        return res\n",
    "    return pd.np.nan\n",
    "df['cumup1'] = df['text_preworked'].apply(get_cumup1).fillna(False)\n",
    "df['cumup2'] = df['text_preworked'].apply(get_cumup2).fillna(False)\n",
    "diff = df['cumup1']==df['cumup2']\n",
    "df[~diff][['cumup1', 'cumup2', 'text_preworked']]\n",
    "assert diff.all()"
   ]
  },
  {
   "cell_type": "code",
   "execution_count": null,
   "metadata": {
    "deletable": false,
    "editable": false,
    "run_control": {
     "frozen": true
    }
   },
   "outputs": [],
   "source": [
    "# Check that this never matches anything\n",
    "cumulative_upkeep_pattern1 = r'(?:, )?cumulative upkeep—.*?,'\n",
    "print(cumulative_upkeep_pattern1)\n",
    "def get_cumup1(xstr):\n",
    "    res = re.findall(cumulative_upkeep_pattern1, str(xstr), re.IGNORECASE)\n",
    "    if res:\n",
    "        return res\n",
    "    return pd.np.nan\n",
    "df['cumup1'] = df['text_preworked'].apply(get_cumup1)\n",
    "df['cumup1'].dropna()\n",
    "assert df['cumup1'].dropna().empty"
   ]
  },
  {
   "cell_type": "code",
   "execution_count": null,
   "metadata": {
    "deletable": false,
    "editable": false,
    "run_control": {
     "frozen": true
    }
   },
   "outputs": [],
   "source": [
    "# Check that this never matches anything\n",
    "cumulative_upkeep_pattern1 = r', cumulative upkeep—'\n",
    "print(cumulative_upkeep_pattern1)\n",
    "def get_cumup1(xstr):\n",
    "    res = re.findall(cumulative_upkeep_pattern1, str(xstr), re.IGNORECASE)\n",
    "    if res:\n",
    "        return res\n",
    "    return pd.np.nan\n",
    "df['cumup1'] = df['text_preworked'].apply(get_cumup1)\n",
    "df['cumup1'].dropna()\n",
    "assert df['cumup1'].dropna().empty"
   ]
  },
  {
   "cell_type": "code",
   "execution_count": null,
   "metadata": {
    "deletable": false,
    "editable": false,
    "run_control": {
     "frozen": true
    }
   },
   "outputs": [],
   "source": [
    "#re.search('test', 'TeSt', re.IGNORECASE)\n",
    "#re.match('test', 'TeSt', re.IGNORECASE)\n",
    "#re.sub('test', 'xxxx', 'Testing', flags=re.IGNORECASE)\n",
    "# Non capturing group https://stackoverflow.com/questions/2703029/why-regular-expressions-non-capturing-group-is-not-working\n",
    "\n",
    "#cumulative_upkeep_pattern = r' ?cumulative upkeep[ |—].*?[.|,|\\n]'\n",
    "type1_cost = r' (\\{[A-Z0-9]+\\})+'\n",
    "type2_cost = r'—.*?[.|\\n]'\n",
    "cumulative_upkeep_pattern = r'(?:, )?(cumulative upkeep)({0}|{1})'.format(type1_cost, type2_cost)\n",
    "print(cumulative_upkeep_pattern)\n",
    "def get_cumup(xstr):\n",
    "    res = re.findall(cumulative_upkeep_pattern, str(xstr), re.IGNORECASE)\n",
    "    if res:\n",
    "        return res\n",
    "    return pd.np.nan\n",
    "df['cumup'] = df['text_preworked'].apply(get_cumup)\n",
    "posit = 28118\n",
    "display(df[['cumup', 'text_preworked']].dropna())#.loc[posit]['text_preworked'])\n",
    "#display(df[['cumup', 'text_preworked']].dropna()#.loc[posit]['cumup'])"
   ]
  },
  {
   "cell_type": "code",
   "execution_count": null,
   "metadata": {
    "deletable": false,
    "editable": false,
    "run_control": {
     "frozen": true
    }
   },
   "outputs": [],
   "source": [
    "# check what is not contained (GREAT: the only card should not be considered anyway)\n",
    "cumup_all = df[df['text_preworked'].str.contains('umulative up')]\n",
    "cumup_detected = df[['cumup', 'text_preworked']].dropna()\n",
    "cumup_all[~cumup_all.index.isin(cumup_detected.index)]['text_preworked'].iloc[0]"
   ]
  },
  {
   "cell_type": "markdown",
   "metadata": {
    "ExecuteTime": {
     "end_time": "2018-08-10T19:30:24.552749Z",
     "start_time": "2018-08-10T19:30:24.547749Z"
    },
    "deletable": false,
    "editable": false,
    "run_control": {
     "frozen": true
    }
   },
   "source": [
    "### Extend procedure to other abilities"
   ]
  },
  {
   "cell_type": "markdown",
   "metadata": {
    "deletable": false,
    "editable": false,
    "run_control": {
     "frozen": true
    }
   },
   "source": [
    "Check what 'Enchant' ability can enchant"
   ]
  },
  {
   "cell_type": "code",
   "execution_count": null,
   "metadata": {
    "deletable": false,
    "editable": false,
    "run_control": {
     "frozen": true
    }
   },
   "outputs": [],
   "source": [
    "# Get everythin that can follow Enchant\n",
    "def get_whats_enchanted(xstr):\n",
    "    res = re.findall(r'Enchant .*?[.|\\n|$]', str(xstr))#, re.IGNORECASE)\n",
    "    if res:\n",
    "        return tuple(res)\n",
    "    return pd.np.nan\n",
    "df['enchant_something'] = df['text_preworked'].apply(get_whats_enchanted)\n",
    "df['enchant_something'].dropna().drop_duplicates()\n",
    "enchant_abilities = set([x[0].strip('\\n') for x in df['enchant_something'].dropna().drop_duplicates()])\n",
    "#enchant_abilities"
   ]
  },
  {
   "cell_type": "markdown",
   "metadata": {},
   "source": [
    "Regex below can detect any abilities with costs."
   ]
  },
  {
   "cell_type": "code",
   "execution_count": null,
   "metadata": {
    "deletable": false,
    "editable": false,
    "run_control": {
     "frozen": true
    }
   },
   "outputs": [],
   "source": [
    "type1_cost = r' (\\{[A-Z0-9]+\\})+'\n",
    "type2_cost = r'—.*?[.|\\n]'\n",
    "type3_cost = r' \\d+[,|\\n]'\n",
    "abilities_lower = '|'.join(abilities).lower()\n",
    "cumulative_upkeep_pattern = r'(?:, )?({abi})({cost1}|{cost2}|{cost3})'.format(\n",
    "    cost1=type1_cost, cost2=type2_cost, cost3=type3_cost, abi=abilities_lower)\n",
    "print(cumulative_upkeep_pattern)\n",
    "def get_cumup(xstr):\n",
    "    res = re.findall(cumulative_upkeep_pattern, str(xstr), re.IGNORECASE)\n",
    "    if res:\n",
    "        return res\n",
    "    return pd.np.nan\n",
    "df['cost_abilities'] = df['text_preworked'].apply(get_cumup)\n",
    "posit = 227\n",
    "display(df[['cost_abilities', 'text_preworked']].dropna())#.loc[posit]['text_preworked'])\n",
    "#display(df[['cumup', 'text_preworked']].dropna()#.loc[posit]['cumup'])"
   ]
  },
  {
   "cell_type": "code",
   "execution_count": null,
   "metadata": {
    "deletable": false,
    "editable": false,
    "run_control": {
     "frozen": true
    }
   },
   "outputs": [],
   "source": [
    "# Detect other things following abilities\n",
    "abilities_follower = r' .*?[.|\\n]'\n",
    "abilities_lower = '|'.join(abilities)\n",
    "ability_w_follower = r'({abi})({fol})'.format(fol=abilities_follower, abi=abilities_lower)\n",
    "print(ability_w_follower)\n",
    "def get_cumup(xstr):\n",
    "    res = re.findall(ability_w_follower, str(xstr))\n",
    "    if res:\n",
    "        return tuple(res)\n",
    "    return pd.np.nan\n",
    "df['ability_w_follower'] = df['text_preworked'].apply(get_cumup)\n",
    "posit = 1100\n",
    "display(df[['ability_w_follower', 'text_preworked']].dropna())#.loc[posit]['text_preworked'])\n",
    "\n",
    "detected_cost_abi = df['cost_abilities'].dropna()\n",
    "df[~df.index.isin(detected_cost_abi.index)]['ability_w_follower'].dropna().drop_duplicates()"
   ]
  },
  {
   "cell_type": "markdown",
   "metadata": {},
   "source": [
    "## What can bt in place of X in +X/+x (or actually +|-X/+|-X)"
   ]
  },
  {
   "cell_type": "markdown",
   "metadata": {},
   "source": [
    "Besides number, only X or Y will appear."
   ]
  },
  {
   "cell_type": "code",
   "execution_count": null,
   "metadata": {
    "deletable": false,
    "editable": false,
    "run_control": {
     "frozen": true
    }
   },
   "outputs": [],
   "source": [
    "from itertools import chain\n",
    "def get_increases(text_str, pat=r'([+-][^\\d]/[+-][^\\d])'):\n",
    "    '''Given a text, extract a pattern and return the extraction or None'''\n",
    "    res = re.findall(pat, text_str)\n",
    "    return res\n",
    "t = cards_df['text_preworked'].apply(get_increases)\n",
    "res = set(chain(*(t.values)))\n",
    "res"
   ]
  },
  {
   "cell_type": "markdown",
   "metadata": {},
   "source": [
    "Which numbers may it contain?"
   ]
  },
  {
   "cell_type": "code",
   "execution_count": null,
   "metadata": {
    "deletable": false,
    "editable": false,
    "run_control": {
     "frozen": true
    }
   },
   "outputs": [],
   "source": [
    "from itertools import chain\n",
    "def get_increases(text_str, pat=r'([+-]\\d+/)|(/[+-]\\d+)'):\n",
    "    '''Given a text, extract a pattern and return the extraction or None'''\n",
    "    res = re.findall(pat, text_str)\n",
    "    return res\n",
    "t = cards_df['text_preworked'].apply(get_increases)\n",
    "res = set(chain(*(t.values)))\n",
    "res"
   ]
  },
  {
   "cell_type": "code",
   "execution_count": null,
   "metadata": {
    "deletable": false,
    "editable": false,
    "run_control": {
     "frozen": true
    }
   },
   "outputs": [],
   "source": [
    "from itertools import chain\n",
    "pincre_pat=r'([+-][\\dXxYx]+/)'\n",
    "rincre_pat=r'(/[+-][\\dXxYx]+)'\n",
    "def get_increases(text_str, pat=r'([+-]\\d+/)|(/[+-]\\d+)'):\n",
    "    '''Given a text, extract a pattern and return the extraction or None'''\n",
    "    res = re.findall(pat, text_str)\n",
    "    return res\n",
    "pincre = cards_df['text_preworked'].apply(get_increases, args=(pincre_pat,))\n",
    "pincre_res = set(chain(*(pincre.values)))\n",
    "rincre = cards_df['text_preworked'].apply(get_increases, args=(rincre_pat,))\n",
    "rincre_res = set(chain(*(rincre.values)))\n",
    "print(pincre_res, rincre_res)"
   ]
  },
  {
   "cell_type": "markdown",
   "metadata": {},
   "source": [
    "There is no +\\*/+\\*"
   ]
  },
  {
   "cell_type": "code",
   "execution_count": null,
   "metadata": {
    "deletable": false,
    "editable": false,
    "run_control": {
     "frozen": true
    }
   },
   "outputs": [],
   "source": [
    "cards_df[cards_df['text_preworked'].str.contains('\\-\\*')]\n",
    "cards_df[cards_df['text_preworked'].str.contains('\\+\\*')]"
   ]
  },
  {
   "cell_type": "code",
   "execution_count": null,
   "metadata": {
    "deletable": false,
    "editable": false,
    "run_control": {
     "frozen": true
    }
   },
   "outputs": [],
   "source": [
    "from itertools import chain\n",
    "def get_increases(text_str, pat=r'([+-][*])'):\n",
    "    '''Given a text, extract a pattern and return the extraction or None'''\n",
    "    res = re.findall(pat, text_str)\n",
    "    return res\n",
    "t = cards_df['text_preworked'].apply(get_increases)\n",
    "res = set(chain(*(t.values)))\n",
    "res"
   ]
  },
  {
   "cell_type": "markdown",
   "metadata": {},
   "source": [
    "## Detecting special symbols"
   ]
  },
  {
   "cell_type": "code",
   "execution_count": 164,
   "metadata": {
    "ExecuteTime": {
     "end_time": "2018-08-26T23:49:24.314384Z",
     "start_time": "2018-08-26T23:49:24.310170Z"
    }
   },
   "outputs": [],
   "source": [
    "import itertools"
   ]
  },
  {
   "cell_type": "code",
   "execution_count": 166,
   "metadata": {
    "ExecuteTime": {
     "end_time": "2018-08-26T23:49:38.562445Z",
     "start_time": "2018-08-26T23:49:38.548026Z"
    }
   },
   "outputs": [],
   "source": [
    "patt = r'\\{.*?\\}'\n",
    "t = cards_df_pops['pop'].apply(lambda x: re.findall(patt, str(x))\n",
    "                             if re.findall(patt, str(x)) else pd.np.nan)\n",
    "symbols_set=set(itertools.chain.from_iterable(t.dropna()))\n",
    "#symbols_set"
   ]
  },
  {
   "cell_type": "code",
   "execution_count": 167,
   "metadata": {
    "ExecuteTime": {
     "end_time": "2018-08-26T23:49:41.393101Z",
     "start_time": "2018-08-26T23:49:41.376310Z"
    }
   },
   "outputs": [],
   "source": [
    "weird_symbols = []\n",
    "worth_ignoring = ['{hr}','{½}','{∞}'] # Unglued or similar\n",
    "worth_ignoring.append('{CHAOS}')\n",
    "symbols_explanation = {\n",
    "    '{S}': {'explanation': 'Snow mana', 'example_card': 'Glacial Plating'},\n",
    "    '{R/P}': {'explanation': 'can be paid with either {R} or 2 life', 'example_card': 'Rage Extractor'},\n",
    "    '{Q}': {'explanation': '{Q} is the untap symbol', 'example_card': 'Order of Whiteclay'},\n",
    "    '{E}': {'explanation': 'Energy counter', 'example_card': 'Consulate Surveillance'},\n",
    "    '{C}': {'explanation': 'Colorless mana', 'example_card': 'Skarrg, the Rage Pits'},\n",
    "    '{CHAOS}': {'explanation': 'It is only in Plane cards and for a specific kind of game',\n",
    "                'example_card': 'Glimmervoid Basin'},\n",
    "}\n",
    "weird_cards = []\n",
    "for item in weird_symbols:\n",
    "    weird = cards_df_sentences[cards_df_sentences['sentences'].str.contains(item)]\n",
    "    weird_cards.append(cards_df[cards_df['id'].isin(weird['card_id'])])\n",
    "if weird_symbols:\n",
    "    weird_cards = pd.concat(weird_cards)\n",
    "    weird_cards[mains_col_names]"
   ]
  },
  {
   "cell_type": "code",
   "execution_count": 168,
   "metadata": {
    "ExecuteTime": {
     "end_time": "2018-08-26T23:49:43.935353Z",
     "start_time": "2018-08-26T23:49:43.929058Z"
    }
   },
   "outputs": [],
   "source": [
    "from itertools import chain\n",
    "def get_increases(text_str, pat=r'([+-][\\d+XxYx]{1,4}/[+-][\\d+XxYx]{1,4})'):\n",
    "    '''Given a text, extract a pattern and return the extraction or None'''\n",
    "    res = re.findall(pat, text_str)\n",
    "    return res\n",
    "t = cards_df['text_preworked'].apply(get_increases)\n",
    "pr_increase_symbols = set(chain(*(t.values)))\n",
    "#pr_increase_symbols"
   ]
  },
  {
   "cell_type": "markdown",
   "metadata": {
    "heading_collapsed": true
   },
   "source": [
    "# Spacy"
   ]
  },
  {
   "cell_type": "code",
   "execution_count": null,
   "metadata": {
    "deletable": false,
    "editable": false,
    "hidden": true,
    "run_control": {
     "frozen": true
    }
   },
   "outputs": [],
   "source": [
    "#https://stackoverflow.com/questions/51766157/how-to-force-a-pos-tag-in-spacy-before-after-tagger/51776803#51776803\n",
    "from spacy.symbols import ORTH, POS, NOUN, VERB\n",
    "\n",
    "nlp.tokenizer.add_special_case('{G}', [{ORTH: '{G}', POS: NOUN}])\n",
    "nlp.tokenizer.add_special_case('{T}', [{ORTH: '{T}', POS: VERB}])\n",
    "for symb in pr_increase_symbols:\n",
    "    nlp.tokenizer.add_special_case(symb, [{ORTH: symb, POS: NOUN}])\n",
    "\n",
    "doc = nlp('{T}: This {G} is a noun. Target creature gets +1/+1')\n",
    "\n",
    "for token in doc:\n",
    "    print('{:10}{:10}'.format(token.text, token.pos_))"
   ]
  },
  {
   "cell_type": "code",
   "execution_count": null,
   "metadata": {
    "deletable": false,
    "editable": false,
    "hidden": true,
    "run_control": {
     "frozen": true
    }
   },
   "outputs": [],
   "source": [
    "# Interpret {something} as NOUN (but tap and untap as verb)\n",
    "#https://stackoverflow.com/questions/51766157/how-to-force-a-pos-tag-in-spacy-before-after-tagger/51776803#51776803\n",
    "from spacy.symbols import ORTH, POS, NOUN, VERB, LOWER,LEMMA, TAG, NounType_com, nn, VerbForm_inf\n",
    "import spacy\n",
    "from spacy import displacy\n",
    " \n",
    "doc = nlp('I just bought 2 shares at 9 a.m. because the stock went up 30% in just 2 days according to the WSJ')\n",
    "displacy.render(doc, style='ent', jupyter=True)"
   ]
  },
  {
   "cell_type": "code",
   "execution_count": null,
   "metadata": {
    "deletable": false,
    "editable": false,
    "hidden": true,
    "run_control": {
     "frozen": true
    }
   },
   "outputs": [],
   "source": [
    "# Noun phrases\n",
    "doc = nlp(\"Wall Street Journal just published an interesting piece on crypto currencies\")\n",
    "for chunk in doc.noun_chunks:\n",
    "    print(chunk.text, chunk.label_, chunk.root.text)"
   ]
  },
  {
   "cell_type": "code",
   "execution_count": null,
   "metadata": {
    "deletable": false,
    "editable": false,
    "hidden": true,
    "run_control": {
     "frozen": true
    }
   },
   "outputs": [],
   "source": [
    "# Dependency parser\n",
    "doc = nlp('Wall Street Journal just published an interesting piece on crypto currencies')\n",
    " \n",
    "for token in doc:\n",
    "    print(\"{0}/{1} <--{2}-- {3}/{4}\".format(\n",
    "        token.text, token.tag_, token.dep_, token.head.text, token.head.tag_))"
   ]
  },
  {
   "cell_type": "code",
   "execution_count": null,
   "metadata": {
    "deletable": false,
    "editable": false,
    "hidden": true,
    "run_control": {
     "frozen": true
    }
   },
   "outputs": [],
   "source": [
    "doc = nlp('Wall Street Journal just published an interesting piece on crypto currencies')\n",
    "displacy.render(doc, style='dep', jupyter=True, options={'distance': 90})\n"
   ]
  },
  {
   "cell_type": "code",
   "execution_count": null,
   "metadata": {
    "deletable": false,
    "editable": false,
    "hidden": true,
    "run_control": {
     "frozen": true
    }
   },
   "outputs": [],
   "source": [
    "#test_sentence = cards_df[cards_df['static_abilities']==('Phasing',)].text.values[0]\n",
    "test_sentence ='\\nWhenever SELF attacks, it gets +1/+1.' #test_sentence +'\\nWhenever SELF attacks, it gets +1/+1.'\n",
    "test_sentence"
   ]
  },
  {
   "cell_type": "code",
   "execution_count": null,
   "metadata": {
    "deletable": false,
    "editable": false,
    "hidden": true,
    "run_control": {
     "frozen": true
    }
   },
   "outputs": [],
   "source": [
    "doc = nlp(test_sentence)\n",
    "displacy.render(doc, style='dep', jupyter=True, options={'distance': 90})\n"
   ]
  },
  {
   "cell_type": "markdown",
   "metadata": {},
   "source": [
    "# Spacy applied"
   ]
  },
  {
   "cell_type": "code",
   "execution_count": 183,
   "metadata": {
    "ExecuteTime": {
     "end_time": "2018-08-26T23:51:32.523933Z",
     "start_time": "2018-08-26T23:51:32.520290Z"
    }
   },
   "outputs": [],
   "source": [
    "from spacy.symbols import ORTH, POS, NOUN, VERB, LOWER,LEMMA, TAG, nn#, VerbForm_inf,NounType_com,\n",
    "import spacy\n",
    "from spacy import displacy"
   ]
  },
  {
   "cell_type": "code",
   "execution_count": 184,
   "metadata": {
    "ExecuteTime": {
     "end_time": "2018-08-26T23:51:35.506421Z",
     "start_time": "2018-08-26T23:51:35.503183Z"
    }
   },
   "outputs": [],
   "source": [
    "#MODEL = 'en_core_web_lg'\n",
    "MODEL = 'en_core_web_sm'"
   ]
  },
  {
   "cell_type": "code",
   "execution_count": 185,
   "metadata": {
    "ExecuteTime": {
     "end_time": "2018-08-26T23:51:37.993224Z",
     "start_time": "2018-08-26T23:51:37.987223Z"
    }
   },
   "outputs": [],
   "source": [
    "from spacy.tokens import Token\n",
    "\n",
    "def get_token_sent(token):\n",
    "    token_span = token.doc[token.i:token.i+1]\n",
    "    return token_span.sent\n",
    "\n",
    "Token.set_extension('sent', getter=get_token_sent, force=True)"
   ]
  },
  {
   "cell_type": "code",
   "execution_count": 186,
   "metadata": {
    "ExecuteTime": {
     "end_time": "2018-08-26T23:51:38.685950Z",
     "start_time": "2018-08-26T23:51:37.995948Z"
    },
    "scrolled": true
   },
   "outputs": [],
   "source": [
    "#MODEL = r'C:\\Users\\cs294662\\Downloads\\programas\\spacy\\data\\en_core_web_md-2.0.0\\en_core_web_md\\en_core_web_md-2.0.0'\n",
    "#MODEL = r'C:\\Users\\cs294662\\Downloads\\programas\\spacy\\data\\en_coref_lg-3.0.0\\en_coref_lg\\en_coref_lg-3.0.0'\n",
    "nlp = spacy.load(MODEL)"
   ]
  },
  {
   "cell_type": "markdown",
   "metadata": {
    "ExecuteTime": {
     "end_time": "2018-08-16T11:13:18.786563Z",
     "start_time": "2018-08-16T11:13:18.753520Z"
    }
   },
   "source": [
    "## Set custom tags for special cases"
   ]
  },
  {
   "cell_type": "code",
   "execution_count": 201,
   "metadata": {
    "ExecuteTime": {
     "end_time": "2018-08-27T00:00:02.827361Z",
     "start_time": "2018-08-27T00:00:02.822978Z"
    }
   },
   "outputs": [],
   "source": [
    "#symbols_explanation"
   ]
  },
  {
   "cell_type": "code",
   "execution_count": 188,
   "metadata": {
    "ExecuteTime": {
     "end_time": "2018-08-26T23:51:47.044375Z",
     "start_time": "2018-08-26T23:51:47.039742Z"
    }
   },
   "outputs": [],
   "source": [
    "symbols_set_valid = symbols_set.difference(set(worth_ignoring))"
   ]
  },
  {
   "cell_type": "code",
   "execution_count": 189,
   "metadata": {
    "ExecuteTime": {
     "end_time": "2018-08-26T23:51:49.679035Z",
     "start_time": "2018-08-26T23:51:49.672581Z"
    }
   },
   "outputs": [],
   "source": [
    "# Add {SYMBOL} to NOUN recognizer\n",
    "for sym in symbols_set_valid:\n",
    "    if not sym in ['{T}', '{Q}']:\n",
    "        nlp.tokenizer.add_special_case(sym, [{ORTH: sym, POS: NOUN, TAG:nn}])\n",
    "    else:\n",
    "        nlp.tokenizer.add_special_case(sym, [{ORTH: sym, POS: VERB, TAG:'VB'}])"
   ]
  },
  {
   "cell_type": "code",
   "execution_count": 196,
   "metadata": {
    "ExecuteTime": {
     "end_time": "2018-08-26T23:55:56.497842Z",
     "start_time": "2018-08-26T23:55:56.486750Z"
    }
   },
   "outputs": [],
   "source": [
    "# Add power and toughness in/decresing symbols to NOUN recognizer\n",
    "for sym in pr_increase_symbols:\n",
    "    nlp.tokenizer.add_special_case(sym, [{ORTH: sym, POS: NOUN, TAG:nn}])"
   ]
  },
  {
   "cell_type": "code",
   "execution_count": 190,
   "metadata": {
    "ExecuteTime": {
     "end_time": "2018-08-26T23:51:52.387866Z",
     "start_time": "2018-08-26T23:51:52.383243Z"
    },
    "deletable": false,
    "editable": false,
    "run_control": {
     "frozen": true
    }
   },
   "outputs": [],
   "source": [
    "# https://stackoverflow.com/questions/44594759/spacy-adding-special-case-tokenization-rules-by-regular-expression-or-pattern\n",
    "#cost_pattern = r'{[\\dWGBURTX]}'\n",
    "#cost_pattern = re.compile(r'{[\\dWGBURTX]}')\n",
    "# add special case rule\n",
    "#special_case = [{ORTH: cost_pattern, LEMMA: 'COST', POS: 'NOUN'}]\n",
    "#nlp.tokenizer.add_special_case(cost_pattern, special_case)"
   ]
  },
  {
   "cell_type": "code",
   "execution_count": null,
   "metadata": {
    "deletable": false,
    "editable": false,
    "run_control": {
     "frozen": true
    }
   },
   "outputs": [],
   "source": [
    "should_be_verbs = ['attacks', 'block', 'blocks', 'cast', 'control','controls', 'deal','deals', 'dies', 'enchant', 'flip', 'gain', 'gains', 'pay', 'return', 'sacrifice', 'shares', 'tap', 'untap']\n",
    "#for token in should_be_verbs:\n",
    "#    nlp.tokenizer.add_special_case(token, [{ORTH: token, POS: VERB}])\n",
    "#    nlp.tokenizer.add_special_case(token.title(), [{ORTH: token.title(), POS: VERB}])"
   ]
  },
  {
   "cell_type": "code",
   "execution_count": 197,
   "metadata": {
    "ExecuteTime": {
     "end_time": "2018-08-26T23:56:31.080688Z",
     "start_time": "2018-08-26T23:56:31.056557Z"
    }
   },
   "outputs": [],
   "source": [
    "test_phrase = '{G}: Target creature gets +1/-1'\n",
    "#test_phrase = 'Target creature has flying'\n",
    "doc = nlp(test_phrase)\n",
    "displacy.render(doc, style='dep', jupyter=True)"
   ]
  },
  {
   "cell_type": "markdown",
   "metadata": {},
   "source": [
    "## Create custom entity matcher"
   ]
  },
  {
   "cell_type": "code",
   "execution_count": 213,
   "metadata": {
    "ExecuteTime": {
     "end_time": "2018-08-27T00:06:54.644007Z",
     "start_time": "2018-08-27T00:06:54.630452Z"
    }
   },
   "outputs": [],
   "source": [
    "from spacy.matcher import PhraseMatcher, Matcher\n",
    "from spacy.tokens import Span\n",
    "\n",
    "class EntityPhraseMatcher(object):\n",
    "    '''https://stackoverflow.com/questions/49097804/spacy-entity-from-phrasematcher-only'''\n",
    "    \n",
    "    name = 'entity_phrase_matcher'\n",
    "\n",
    "    def __init__(self, nlp, terms, label):\n",
    "        patterns = [nlp(term) for term in terms]\n",
    "        self.matcher = PhraseMatcher(nlp.vocab)\n",
    "        self.matcher.add(label, None, *patterns)\n",
    "\n",
    "    def __call__(self, doc):\n",
    "        matches = self.matcher(doc)\n",
    "        spans = []\n",
    "        for label, start, end in matches:\n",
    "            span = Span(doc, start, end, label=label)\n",
    "            spans.append(span)\n",
    "        doc.ents = spans\n",
    "        return doc\n",
    "    \n",
    "class EntityMatcher(object):\n",
    "    name = 'entity_matcher'\n",
    "\n",
    "    def __init__(self, nlp, dict_label_terms):\n",
    "        '''dict_label_terms shoould be a dictionary in the format\n",
    "        {label(str): patterns(list)}'''\n",
    "        self.matcher = Matcher(nlp.vocab)\n",
    "        for label, patterns in dict_label_terms.items():\n",
    "            self.matcher.add(label, None, *patterns)\n",
    "\n",
    "    def __call__(self, doc):\n",
    "        matches = self.matcher(doc)\n",
    "        spans = []\n",
    "        for label, start, end in matches:\n",
    "            span = Span(doc, start, end, label=label)\n",
    "            spans.append(span)\n",
    "        doc.ents = spans\n",
    "        return doc"
   ]
  },
  {
   "cell_type": "code",
   "execution_count": 221,
   "metadata": {
    "ExecuteTime": {
     "end_time": "2018-08-27T00:09:41.396597Z",
     "start_time": "2018-08-27T00:09:41.392267Z"
    }
   },
   "outputs": [],
   "source": [
    "zones = ['graveyard', 'play', 'library', 'hand', 'battlefield', 'exile', 'stack']\n",
    "players = ['opponent', 'you']"
   ]
  },
  {
   "cell_type": "code",
   "execution_count": 222,
   "metadata": {
    "ExecuteTime": {
     "end_time": "2018-08-27T00:09:44.323849Z",
     "start_time": "2018-08-27T00:09:44.306624Z"
    },
    "scrolled": true
   },
   "outputs": [
    {
     "name": "stdout",
     "output_type": "stream",
     "text": [
      "['tagger', 'parser', 'entity_matcher']\n"
     ]
    }
   ],
   "source": [
    "from collections import defaultdict\n",
    "#nlp.remove_pipe('ner')\n",
    "nlp.remove_pipe('entity_matcher')\n",
    "#nlp.remove_pipe('ent_type_matcher')\n",
    "#nlp.remove_pipe('ent_subtype_matcher')\n",
    "#nlp.remove_pipe('ent_supertype_matcher')\n",
    "\n",
    "dict_label_terms = defaultdict(list)\n",
    "\n",
    "for typ in cards_types:\n",
    "    dict_label_terms['TYPE'].append([{'LOWER': t} for t in typ.lower().split()])\n",
    "for typ in cards_subtypes:\n",
    "    dict_label_terms['SUBTYPE'].append([{'LOWER': t} for t in typ.lower().split()])\n",
    "for typ in cards_supertypes:\n",
    "    dict_label_terms['SUPERTYPE'].append([{'LOWER': t} for t in typ.lower().split()])\n",
    "for typ in ['white','black','blue','white','red','colorless', 'multicolored', 'multicolor']:\n",
    "    dict_label_terms['COLOR'].append([{'LOWER': t} for t in typ.lower().split()])\n",
    "for abi in abilities:\n",
    "    dict_label_terms['ABILITY'].append([{'LOWER': abi} for t in abi.lower().split()])\n",
    "for zone in zones:\n",
    "    dict_label_terms['ZONE'].append([{'LOWER': zone, 'POS': NOUN} for t in abi.lower().split()])\n",
    "for player in players:\n",
    "    dict_label_terms['PLAYER'].append([{'LOWER': player, 'POS':spacy.symbols.PRON} for t in abi.lower().split()])\n",
    "    dict_label_terms['PLAYER'].append([{'LOWER': player, 'POS':spacy.symbols.NOUN} for t in abi.lower().split()])\n",
    "\n",
    "entity_matcher = EntityMatcher(nlp, dict_label_terms)\n",
    "nlp.add_pipe(entity_matcher)\n",
    "\n",
    "print(nlp.pipe_names)  # see all components in the pipeline"
   ]
  },
  {
   "cell_type": "code",
   "execution_count": 223,
   "metadata": {
    "ExecuteTime": {
     "end_time": "2018-08-27T00:09:46.977572Z",
     "start_time": "2018-08-27T00:09:46.949987Z"
    }
   },
   "outputs": [
    {
     "data": {
      "text/html": [
       "<div class=\"entities\" style=\"line-height: 2.5\">{G}: \n",
       "<mark class=\"entity\" style=\"background: #ddd; padding: 0.45em 0.6em; margin: 0 0.25em; line-height: 1; border-radius: 0.35em; box-decoration-break: clone; -webkit-box-decoration-break: clone\">\n",
       "    You\n",
       "    <span style=\"font-size: 0.8em; font-weight: bold; line-height: 1; border-radius: 0.35em; text-transform: uppercase; vertical-align: middle; margin-left: 0.5rem\">PLAYER</span>\n",
       "</mark>\n",
       " can put target \n",
       "<mark class=\"entity\" style=\"background: #ddd; padding: 0.45em 0.6em; margin: 0 0.25em; line-height: 1; border-radius: 0.35em; box-decoration-break: clone; -webkit-box-decoration-break: clone\">\n",
       "    creature\n",
       "    <span style=\"font-size: 0.8em; font-weight: bold; line-height: 1; border-radius: 0.35em; text-transform: uppercase; vertical-align: middle; margin-left: 0.5rem\">TYPE</span>\n",
       "</mark>\n",
       " from an \n",
       "<mark class=\"entity\" style=\"background: #ddd; padding: 0.45em 0.6em; margin: 0 0.25em; line-height: 1; border-radius: 0.35em; box-decoration-break: clone; -webkit-box-decoration-break: clone\">\n",
       "    opponent\n",
       "    <span style=\"font-size: 0.8em; font-weight: bold; line-height: 1; border-radius: 0.35em; text-transform: uppercase; vertical-align: middle; margin-left: 0.5rem\">PLAYER</span>\n",
       "</mark>\n",
       "'s \n",
       "<mark class=\"entity\" style=\"background: #ddd; padding: 0.45em 0.6em; margin: 0 0.25em; line-height: 1; border-radius: 0.35em; box-decoration-break: clone; -webkit-box-decoration-break: clone\">\n",
       "    graveyard\n",
       "    <span style=\"font-size: 0.8em; font-weight: bold; line-height: 1; border-radius: 0.35em; text-transform: uppercase; vertical-align: middle; margin-left: 0.5rem\">ZONE</span>\n",
       "</mark>\n",
       " into \n",
       "<mark class=\"entity\" style=\"background: #ddd; padding: 0.45em 0.6em; margin: 0 0.25em; line-height: 1; border-radius: 0.35em; box-decoration-break: clone; -webkit-box-decoration-break: clone\">\n",
       "    play\n",
       "    <span style=\"font-size: 0.8em; font-weight: bold; line-height: 1; border-radius: 0.35em; text-transform: uppercase; vertical-align: middle; margin-left: 0.5rem\">ZONE</span>\n",
       "</mark>\n",
       " under your control</div>"
      ],
      "text/plain": [
       "<IPython.core.display.HTML object>"
      ]
     },
     "metadata": {},
     "output_type": "display_data"
    },
    {
     "data": {
      "text/html": [
       "<svg xmlns=\"http://www.w3.org/2000/svg\" xmlns:xlink=\"http://www.w3.org/1999/xlink\" id=\"0\" class=\"displacy\" width=\"2850\" height=\"574.5\" style=\"max-width: none; height: 574.5px; color: #000000; background: #ffffff; font-family: Arial\">\n",
       "<text class=\"displacy-token\" fill=\"currentColor\" text-anchor=\"middle\" y=\"484.5\">\n",
       "    <tspan class=\"displacy-word\" fill=\"currentColor\" x=\"50\">{G}:</tspan>\n",
       "    <tspan class=\"displacy-tag\" dy=\"2em\" fill=\"currentColor\" x=\"50\"></tspan>\n",
       "</text>\n",
       "\n",
       "<text class=\"displacy-token\" fill=\"currentColor\" text-anchor=\"middle\" y=\"484.5\">\n",
       "    <tspan class=\"displacy-word\" fill=\"currentColor\" x=\"225\">You</tspan>\n",
       "    <tspan class=\"displacy-tag\" dy=\"2em\" fill=\"currentColor\" x=\"225\">PRON</tspan>\n",
       "</text>\n",
       "\n",
       "<text class=\"displacy-token\" fill=\"currentColor\" text-anchor=\"middle\" y=\"484.5\">\n",
       "    <tspan class=\"displacy-word\" fill=\"currentColor\" x=\"400\">can</tspan>\n",
       "    <tspan class=\"displacy-tag\" dy=\"2em\" fill=\"currentColor\" x=\"400\">VERB</tspan>\n",
       "</text>\n",
       "\n",
       "<text class=\"displacy-token\" fill=\"currentColor\" text-anchor=\"middle\" y=\"484.5\">\n",
       "    <tspan class=\"displacy-word\" fill=\"currentColor\" x=\"575\">put</tspan>\n",
       "    <tspan class=\"displacy-tag\" dy=\"2em\" fill=\"currentColor\" x=\"575\">VERB</tspan>\n",
       "</text>\n",
       "\n",
       "<text class=\"displacy-token\" fill=\"currentColor\" text-anchor=\"middle\" y=\"484.5\">\n",
       "    <tspan class=\"displacy-word\" fill=\"currentColor\" x=\"750\">target</tspan>\n",
       "    <tspan class=\"displacy-tag\" dy=\"2em\" fill=\"currentColor\" x=\"750\">NOUN</tspan>\n",
       "</text>\n",
       "\n",
       "<text class=\"displacy-token\" fill=\"currentColor\" text-anchor=\"middle\" y=\"484.5\">\n",
       "    <tspan class=\"displacy-word\" fill=\"currentColor\" x=\"925\">creature</tspan>\n",
       "    <tspan class=\"displacy-tag\" dy=\"2em\" fill=\"currentColor\" x=\"925\">NOUN</tspan>\n",
       "</text>\n",
       "\n",
       "<text class=\"displacy-token\" fill=\"currentColor\" text-anchor=\"middle\" y=\"484.5\">\n",
       "    <tspan class=\"displacy-word\" fill=\"currentColor\" x=\"1100\">from</tspan>\n",
       "    <tspan class=\"displacy-tag\" dy=\"2em\" fill=\"currentColor\" x=\"1100\">ADP</tspan>\n",
       "</text>\n",
       "\n",
       "<text class=\"displacy-token\" fill=\"currentColor\" text-anchor=\"middle\" y=\"484.5\">\n",
       "    <tspan class=\"displacy-word\" fill=\"currentColor\" x=\"1275\">an</tspan>\n",
       "    <tspan class=\"displacy-tag\" dy=\"2em\" fill=\"currentColor\" x=\"1275\">DET</tspan>\n",
       "</text>\n",
       "\n",
       "<text class=\"displacy-token\" fill=\"currentColor\" text-anchor=\"middle\" y=\"484.5\">\n",
       "    <tspan class=\"displacy-word\" fill=\"currentColor\" x=\"1450\">opponent</tspan>\n",
       "    <tspan class=\"displacy-tag\" dy=\"2em\" fill=\"currentColor\" x=\"1450\">NOUN</tspan>\n",
       "</text>\n",
       "\n",
       "<text class=\"displacy-token\" fill=\"currentColor\" text-anchor=\"middle\" y=\"484.5\">\n",
       "    <tspan class=\"displacy-word\" fill=\"currentColor\" x=\"1625\">'s</tspan>\n",
       "    <tspan class=\"displacy-tag\" dy=\"2em\" fill=\"currentColor\" x=\"1625\">PART</tspan>\n",
       "</text>\n",
       "\n",
       "<text class=\"displacy-token\" fill=\"currentColor\" text-anchor=\"middle\" y=\"484.5\">\n",
       "    <tspan class=\"displacy-word\" fill=\"currentColor\" x=\"1800\">graveyard</tspan>\n",
       "    <tspan class=\"displacy-tag\" dy=\"2em\" fill=\"currentColor\" x=\"1800\">NOUN</tspan>\n",
       "</text>\n",
       "\n",
       "<text class=\"displacy-token\" fill=\"currentColor\" text-anchor=\"middle\" y=\"484.5\">\n",
       "    <tspan class=\"displacy-word\" fill=\"currentColor\" x=\"1975\">into</tspan>\n",
       "    <tspan class=\"displacy-tag\" dy=\"2em\" fill=\"currentColor\" x=\"1975\">ADP</tspan>\n",
       "</text>\n",
       "\n",
       "<text class=\"displacy-token\" fill=\"currentColor\" text-anchor=\"middle\" y=\"484.5\">\n",
       "    <tspan class=\"displacy-word\" fill=\"currentColor\" x=\"2150\">play</tspan>\n",
       "    <tspan class=\"displacy-tag\" dy=\"2em\" fill=\"currentColor\" x=\"2150\">NOUN</tspan>\n",
       "</text>\n",
       "\n",
       "<text class=\"displacy-token\" fill=\"currentColor\" text-anchor=\"middle\" y=\"484.5\">\n",
       "    <tspan class=\"displacy-word\" fill=\"currentColor\" x=\"2325\">under</tspan>\n",
       "    <tspan class=\"displacy-tag\" dy=\"2em\" fill=\"currentColor\" x=\"2325\">ADP</tspan>\n",
       "</text>\n",
       "\n",
       "<text class=\"displacy-token\" fill=\"currentColor\" text-anchor=\"middle\" y=\"484.5\">\n",
       "    <tspan class=\"displacy-word\" fill=\"currentColor\" x=\"2500\">your</tspan>\n",
       "    <tspan class=\"displacy-tag\" dy=\"2em\" fill=\"currentColor\" x=\"2500\">ADJ</tspan>\n",
       "</text>\n",
       "\n",
       "<text class=\"displacy-token\" fill=\"currentColor\" text-anchor=\"middle\" y=\"484.5\">\n",
       "    <tspan class=\"displacy-word\" fill=\"currentColor\" x=\"2675\">control</tspan>\n",
       "    <tspan class=\"displacy-tag\" dy=\"2em\" fill=\"currentColor\" x=\"2675\">NOUN</tspan>\n",
       "</text>\n",
       "\n",
       "<g class=\"displacy-arrow\">\n",
       "    <path class=\"displacy-arc\" id=\"arrow-0-0\" stroke-width=\"2px\" d=\"M70,439.5 C70,177.0 565.0,177.0 565.0,439.5\" fill=\"none\" stroke=\"currentColor\"/>\n",
       "    <text dy=\"1.25em\" style=\"font-size: 0.8em; letter-spacing: 1px\">\n",
       "        <textPath xlink:href=\"#arrow-0-0\" class=\"displacy-label\" startOffset=\"50%\" fill=\"currentColor\" text-anchor=\"middle\">dep</textPath>\n",
       "    </text>\n",
       "    <path class=\"displacy-arrowhead\" d=\"M70,441.5 L62,429.5 78,429.5\" fill=\"currentColor\"/>\n",
       "</g>\n",
       "\n",
       "<g class=\"displacy-arrow\">\n",
       "    <path class=\"displacy-arc\" id=\"arrow-0-1\" stroke-width=\"2px\" d=\"M245,439.5 C245,264.5 560.0,264.5 560.0,439.5\" fill=\"none\" stroke=\"currentColor\"/>\n",
       "    <text dy=\"1.25em\" style=\"font-size: 0.8em; letter-spacing: 1px\">\n",
       "        <textPath xlink:href=\"#arrow-0-1\" class=\"displacy-label\" startOffset=\"50%\" fill=\"currentColor\" text-anchor=\"middle\">nsubj</textPath>\n",
       "    </text>\n",
       "    <path class=\"displacy-arrowhead\" d=\"M245,441.5 L237,429.5 253,429.5\" fill=\"currentColor\"/>\n",
       "</g>\n",
       "\n",
       "<g class=\"displacy-arrow\">\n",
       "    <path class=\"displacy-arc\" id=\"arrow-0-2\" stroke-width=\"2px\" d=\"M420,439.5 C420,352.0 555.0,352.0 555.0,439.5\" fill=\"none\" stroke=\"currentColor\"/>\n",
       "    <text dy=\"1.25em\" style=\"font-size: 0.8em; letter-spacing: 1px\">\n",
       "        <textPath xlink:href=\"#arrow-0-2\" class=\"displacy-label\" startOffset=\"50%\" fill=\"currentColor\" text-anchor=\"middle\">aux</textPath>\n",
       "    </text>\n",
       "    <path class=\"displacy-arrowhead\" d=\"M420,441.5 L412,429.5 428,429.5\" fill=\"currentColor\"/>\n",
       "</g>\n",
       "\n",
       "<g class=\"displacy-arrow\">\n",
       "    <path class=\"displacy-arc\" id=\"arrow-0-3\" stroke-width=\"2px\" d=\"M770,439.5 C770,352.0 905.0,352.0 905.0,439.5\" fill=\"none\" stroke=\"currentColor\"/>\n",
       "    <text dy=\"1.25em\" style=\"font-size: 0.8em; letter-spacing: 1px\">\n",
       "        <textPath xlink:href=\"#arrow-0-3\" class=\"displacy-label\" startOffset=\"50%\" fill=\"currentColor\" text-anchor=\"middle\">compound</textPath>\n",
       "    </text>\n",
       "    <path class=\"displacy-arrowhead\" d=\"M770,441.5 L762,429.5 778,429.5\" fill=\"currentColor\"/>\n",
       "</g>\n",
       "\n",
       "<g class=\"displacy-arrow\">\n",
       "    <path class=\"displacy-arc\" id=\"arrow-0-4\" stroke-width=\"2px\" d=\"M595,439.5 C595,264.5 910.0,264.5 910.0,439.5\" fill=\"none\" stroke=\"currentColor\"/>\n",
       "    <text dy=\"1.25em\" style=\"font-size: 0.8em; letter-spacing: 1px\">\n",
       "        <textPath xlink:href=\"#arrow-0-4\" class=\"displacy-label\" startOffset=\"50%\" fill=\"currentColor\" text-anchor=\"middle\">dobj</textPath>\n",
       "    </text>\n",
       "    <path class=\"displacy-arrowhead\" d=\"M910.0,441.5 L918.0,429.5 902.0,429.5\" fill=\"currentColor\"/>\n",
       "</g>\n",
       "\n",
       "<g class=\"displacy-arrow\">\n",
       "    <path class=\"displacy-arc\" id=\"arrow-0-5\" stroke-width=\"2px\" d=\"M595,439.5 C595,177.0 1090.0,177.0 1090.0,439.5\" fill=\"none\" stroke=\"currentColor\"/>\n",
       "    <text dy=\"1.25em\" style=\"font-size: 0.8em; letter-spacing: 1px\">\n",
       "        <textPath xlink:href=\"#arrow-0-5\" class=\"displacy-label\" startOffset=\"50%\" fill=\"currentColor\" text-anchor=\"middle\">prep</textPath>\n",
       "    </text>\n",
       "    <path class=\"displacy-arrowhead\" d=\"M1090.0,441.5 L1098.0,429.5 1082.0,429.5\" fill=\"currentColor\"/>\n",
       "</g>\n",
       "\n",
       "<g class=\"displacy-arrow\">\n",
       "    <path class=\"displacy-arc\" id=\"arrow-0-6\" stroke-width=\"2px\" d=\"M1295,439.5 C1295,352.0 1430.0,352.0 1430.0,439.5\" fill=\"none\" stroke=\"currentColor\"/>\n",
       "    <text dy=\"1.25em\" style=\"font-size: 0.8em; letter-spacing: 1px\">\n",
       "        <textPath xlink:href=\"#arrow-0-6\" class=\"displacy-label\" startOffset=\"50%\" fill=\"currentColor\" text-anchor=\"middle\">det</textPath>\n",
       "    </text>\n",
       "    <path class=\"displacy-arrowhead\" d=\"M1295,441.5 L1287,429.5 1303,429.5\" fill=\"currentColor\"/>\n",
       "</g>\n",
       "\n",
       "<g class=\"displacy-arrow\">\n",
       "    <path class=\"displacy-arc\" id=\"arrow-0-7\" stroke-width=\"2px\" d=\"M1470,439.5 C1470,264.5 1785.0,264.5 1785.0,439.5\" fill=\"none\" stroke=\"currentColor\"/>\n",
       "    <text dy=\"1.25em\" style=\"font-size: 0.8em; letter-spacing: 1px\">\n",
       "        <textPath xlink:href=\"#arrow-0-7\" class=\"displacy-label\" startOffset=\"50%\" fill=\"currentColor\" text-anchor=\"middle\">poss</textPath>\n",
       "    </text>\n",
       "    <path class=\"displacy-arrowhead\" d=\"M1470,441.5 L1462,429.5 1478,429.5\" fill=\"currentColor\"/>\n",
       "</g>\n",
       "\n",
       "<g class=\"displacy-arrow\">\n",
       "    <path class=\"displacy-arc\" id=\"arrow-0-8\" stroke-width=\"2px\" d=\"M1470,439.5 C1470,352.0 1605.0,352.0 1605.0,439.5\" fill=\"none\" stroke=\"currentColor\"/>\n",
       "    <text dy=\"1.25em\" style=\"font-size: 0.8em; letter-spacing: 1px\">\n",
       "        <textPath xlink:href=\"#arrow-0-8\" class=\"displacy-label\" startOffset=\"50%\" fill=\"currentColor\" text-anchor=\"middle\">case</textPath>\n",
       "    </text>\n",
       "    <path class=\"displacy-arrowhead\" d=\"M1605.0,441.5 L1613.0,429.5 1597.0,429.5\" fill=\"currentColor\"/>\n",
       "</g>\n",
       "\n",
       "<g class=\"displacy-arrow\">\n",
       "    <path class=\"displacy-arc\" id=\"arrow-0-9\" stroke-width=\"2px\" d=\"M1120,439.5 C1120,89.5 1795.0,89.5 1795.0,439.5\" fill=\"none\" stroke=\"currentColor\"/>\n",
       "    <text dy=\"1.25em\" style=\"font-size: 0.8em; letter-spacing: 1px\">\n",
       "        <textPath xlink:href=\"#arrow-0-9\" class=\"displacy-label\" startOffset=\"50%\" fill=\"currentColor\" text-anchor=\"middle\">pobj</textPath>\n",
       "    </text>\n",
       "    <path class=\"displacy-arrowhead\" d=\"M1795.0,441.5 L1803.0,429.5 1787.0,429.5\" fill=\"currentColor\"/>\n",
       "</g>\n",
       "\n",
       "<g class=\"displacy-arrow\">\n",
       "    <path class=\"displacy-arc\" id=\"arrow-0-10\" stroke-width=\"2px\" d=\"M595,439.5 C595,2.0 1975.0,2.0 1975.0,439.5\" fill=\"none\" stroke=\"currentColor\"/>\n",
       "    <text dy=\"1.25em\" style=\"font-size: 0.8em; letter-spacing: 1px\">\n",
       "        <textPath xlink:href=\"#arrow-0-10\" class=\"displacy-label\" startOffset=\"50%\" fill=\"currentColor\" text-anchor=\"middle\">prep</textPath>\n",
       "    </text>\n",
       "    <path class=\"displacy-arrowhead\" d=\"M1975.0,441.5 L1983.0,429.5 1967.0,429.5\" fill=\"currentColor\"/>\n",
       "</g>\n",
       "\n",
       "<g class=\"displacy-arrow\">\n",
       "    <path class=\"displacy-arc\" id=\"arrow-0-11\" stroke-width=\"2px\" d=\"M1995,439.5 C1995,352.0 2130.0,352.0 2130.0,439.5\" fill=\"none\" stroke=\"currentColor\"/>\n",
       "    <text dy=\"1.25em\" style=\"font-size: 0.8em; letter-spacing: 1px\">\n",
       "        <textPath xlink:href=\"#arrow-0-11\" class=\"displacy-label\" startOffset=\"50%\" fill=\"currentColor\" text-anchor=\"middle\">pobj</textPath>\n",
       "    </text>\n",
       "    <path class=\"displacy-arrowhead\" d=\"M2130.0,441.5 L2138.0,429.5 2122.0,429.5\" fill=\"currentColor\"/>\n",
       "</g>\n",
       "\n",
       "<g class=\"displacy-arrow\">\n",
       "    <path class=\"displacy-arc\" id=\"arrow-0-12\" stroke-width=\"2px\" d=\"M2170,439.5 C2170,352.0 2305.0,352.0 2305.0,439.5\" fill=\"none\" stroke=\"currentColor\"/>\n",
       "    <text dy=\"1.25em\" style=\"font-size: 0.8em; letter-spacing: 1px\">\n",
       "        <textPath xlink:href=\"#arrow-0-12\" class=\"displacy-label\" startOffset=\"50%\" fill=\"currentColor\" text-anchor=\"middle\">prep</textPath>\n",
       "    </text>\n",
       "    <path class=\"displacy-arrowhead\" d=\"M2305.0,441.5 L2313.0,429.5 2297.0,429.5\" fill=\"currentColor\"/>\n",
       "</g>\n",
       "\n",
       "<g class=\"displacy-arrow\">\n",
       "    <path class=\"displacy-arc\" id=\"arrow-0-13\" stroke-width=\"2px\" d=\"M2520,439.5 C2520,352.0 2655.0,352.0 2655.0,439.5\" fill=\"none\" stroke=\"currentColor\"/>\n",
       "    <text dy=\"1.25em\" style=\"font-size: 0.8em; letter-spacing: 1px\">\n",
       "        <textPath xlink:href=\"#arrow-0-13\" class=\"displacy-label\" startOffset=\"50%\" fill=\"currentColor\" text-anchor=\"middle\">poss</textPath>\n",
       "    </text>\n",
       "    <path class=\"displacy-arrowhead\" d=\"M2520,441.5 L2512,429.5 2528,429.5\" fill=\"currentColor\"/>\n",
       "</g>\n",
       "\n",
       "<g class=\"displacy-arrow\">\n",
       "    <path class=\"displacy-arc\" id=\"arrow-0-14\" stroke-width=\"2px\" d=\"M2345,439.5 C2345,264.5 2660.0,264.5 2660.0,439.5\" fill=\"none\" stroke=\"currentColor\"/>\n",
       "    <text dy=\"1.25em\" style=\"font-size: 0.8em; letter-spacing: 1px\">\n",
       "        <textPath xlink:href=\"#arrow-0-14\" class=\"displacy-label\" startOffset=\"50%\" fill=\"currentColor\" text-anchor=\"middle\">pobj</textPath>\n",
       "    </text>\n",
       "    <path class=\"displacy-arrowhead\" d=\"M2660.0,441.5 L2668.0,429.5 2652.0,429.5\" fill=\"currentColor\"/>\n",
       "</g>\n",
       "</svg>"
      ],
      "text/plain": [
       "<IPython.core.display.HTML object>"
      ]
     },
     "metadata": {},
     "output_type": "display_data"
    }
   ],
   "source": [
    "test_phrase = \"{G}: You can put target creature from an opponent's graveyard into play under your control\"\n",
    "#test_phrase = 'Target creature has flying'\n",
    "doc = nlp(test_phrase)\n",
    "displacy.render(doc, style='ent', jupyter=True)\n",
    "displacy.render(doc, style='dep', jupyter=True)"
   ]
  },
  {
   "cell_type": "code",
   "execution_count": null,
   "metadata": {},
   "outputs": [],
   "source": [
    "#nlp2 = spacy.load(MODEL)"
   ]
  },
  {
   "cell_type": "markdown",
   "metadata": {},
   "source": [
    "# Investigating"
   ]
  },
  {
   "cell_type": "code",
   "execution_count": null,
   "metadata": {},
   "outputs": [],
   "source": [
    "sent = 120#12352#12350#1205\n",
    "test_phrase = cards_df_sentences[cards_df_sentences['sentences'].str.contains('\\{W}')]['sentences'].iloc[sent]\n",
    "\n",
    "#test_phrase = 'Tap something: get more'\n",
    "doc = nlp(test_phrase)"
   ]
  },
  {
   "cell_type": "code",
   "execution_count": null,
   "metadata": {},
   "outputs": [],
   "source": [
    "for s in doc.sents:\n",
    "    print(s)\n",
    "    print('Change')"
   ]
  },
  {
   "cell_type": "code",
   "execution_count": null,
   "metadata": {},
   "outputs": [],
   "source": [
    "displacy.render(doc, style='ent', jupyter=True)"
   ]
  },
  {
   "cell_type": "code",
   "execution_count": null,
   "metadata": {},
   "outputs": [],
   "source": [
    "displacy.render(doc, style='dep', jupyter=True)"
   ]
  },
  {
   "cell_type": "code",
   "execution_count": null,
   "metadata": {},
   "outputs": [],
   "source": [
    "for t in doc:\n",
    "    print(t, t.tag_, t.pos_)"
   ]
  },
  {
   "cell_type": "code",
   "execution_count": null,
   "metadata": {},
   "outputs": [],
   "source": [
    "sents = []\n",
    "for sent in doc.sents:\n",
    "    print(sent)\n",
    "    for tr in sent.subtree:\n",
    "        sentd = {\n",
    "            'word': tr,\n",
    "            'ancestors': [x for x in tr.ancestors],\n",
    "            'children': [x for x in tr.children],\n",
    "            'cluster': tr.cluster,\n",
    "            'conjuncts': [x for x in tr.conjuncts],\n",
    "            'dep': tr.dep_,\n",
    "            'ent_type': tr.ent_type_,\n",
    "            'head': tr.head,\n",
    "            'lemma': tr.lemma_,\n",
    "            'tag':tr.tag_\n",
    "        }\n",
    "        sents.append(sentd)\n",
    "        #print(sentd)\n",
    "        #print('\\n')\n",
    "df = pd.DataFrame(sents)\n",
    "df"
   ]
  },
  {
   "cell_type": "markdown",
   "metadata": {},
   "source": [
    "## Detect verbs in each sentence of a card (mainly non-abilities ones)"
   ]
  },
  {
   "cell_type": "code",
   "execution_count": null,
   "metadata": {},
   "outputs": [],
   "source": [
    "def get_main_nlp_feats(row):\n",
    "    sents = []\n",
    "    doc = row['doc']\n",
    "    for sent in doc.sents:\n",
    "        #print(sent)\n",
    "        for tr in sent.subtree:\n",
    "            sentd = {\n",
    "                'sent': sent,\n",
    "                'text': tr.text,\n",
    "                'word': tr,\n",
    "                'ancestors': [x for x in tr.ancestors],\n",
    "                'children': [x for x in tr.children],\n",
    "                'cluster': tr.cluster,\n",
    "                'conjuncts': [x for x in tr.conjuncts],\n",
    "                'dep': tr.dep_,\n",
    "                'ent_type': tr.ent_type_,\n",
    "                'head': tr.head,\n",
    "                'lemma': tr.lemma_,\n",
    "                'pos':tr.pos_,\n",
    "                'tag':tr.tag_\n",
    "            }\n",
    "            sents.append(sentd)\n",
    "            #print(sentd)\n",
    "            #print('\\n')\n",
    "    df = pd.DataFrame(sents)\n",
    "    df['card_id'] = row['id']\n",
    "    return df"
   ]
  },
  {
   "cell_type": "code",
   "execution_count": null,
   "metadata": {},
   "outputs": [],
   "source": [
    "def get_doc(text_str):\n",
    "    return nlp(text_str)"
   ]
  },
  {
   "cell_type": "code",
   "execution_count": null,
   "metadata": {},
   "outputs": [],
   "source": [
    "cards_df_sample = cards_df.sample(10000).copy()\n",
    "print('creating docs')\n",
    "cards_df_sample['doc'] = cards_df_sample['text_preworked'].apply(get_doc)\n",
    "print('getting docs feats')\n",
    "cards_df_sample['nlp_feats'] = cards_df_sample.apply(get_main_nlp_feats, axis=1)"
   ]
  },
  {
   "cell_type": "code",
   "execution_count": null,
   "metadata": {},
   "outputs": [],
   "source": [
    "# Concatanate sent_feats\n",
    "sent_feats = pd.concat(cards_df_sample['nlp_feats'].values,sort=True, ignore_index=True)"
   ]
  },
  {
   "cell_type": "code",
   "execution_count": null,
   "metadata": {},
   "outputs": [],
   "source": [
    "# Counting and showing ROOT verbs\n",
    "count_verbs = sent_feats[(sent_feats['dep']==\"ROOT\")&(sent_feats['pos']=='VERB')]['lemma'].unique()\n",
    "count_verbs.sort()\n",
    "print(count_verbs.shape, count_verbs)"
   ]
  },
  {
   "cell_type": "code",
   "execution_count": null,
   "metadata": {},
   "outputs": [],
   "source": [
    "# Counting and showing ROOT nouns\n",
    "count_nouns = sent_feats[(sent_feats['dep']==\"ROOT\")&(sent_feats['pos']=='NOUN')]['lemma'].unique()\n",
    "count_nouns.sort()\n",
    "print(count_nouns.shape, count_nouns)"
   ]
  },
  {
   "cell_type": "code",
   "execution_count": null,
   "metadata": {},
   "outputs": [],
   "source": [
    "spacy.explain(\"CD\")"
   ]
  },
  {
   "cell_type": "code",
   "execution_count": null,
   "metadata": {},
   "outputs": [],
   "source": [
    "t = sent_feats[sent_feats['word'].apply(lambda x: x.text=='deals')]['word'].iloc[120]\n",
    "details={}\n",
    "print(t)\n",
    "print(t._.sent)\n",
    "for c in t.children:\n",
    "    details[c] = {'pos':c.pos_, 'tag':c.tag_, 'lemma':c.lemma_, 'dep_':c.dep_}\n",
    "print(details)\n",
    "displacy.render(t.doc, style='dep', jupyter=True)"
   ]
  },
  {
   "cell_type": "code",
   "execution_count": null,
   "metadata": {},
   "outputs": [],
   "source": [
    "for nounc in t.doc.noun_chunks:\n",
    "    print(nounc)"
   ]
  },
  {
   "cell_type": "code",
   "execution_count": null,
   "metadata": {},
   "outputs": [],
   "source": [
    "def get_children_and_attributes(token):\n",
    "    details = {}\n",
    "    #for t in token.children\n",
    "count_verbs = sent_feats[(sent_feats['dep']==\"ROOT\")&(sent_feats['pos']=='VERB')]['lemma'].unique()"
   ]
  },
  {
   "cell_type": "code",
   "execution_count": null,
   "metadata": {},
   "outputs": [],
   "source": [
    "# Show roots\n",
    "temp = sent_feats[(sent_feats['dep']==\"ROOT\")][['lemma', 'children', 'sent']].copy()\n",
    "temp['children'] = temp['children'].apply(lambda x: tuple(set(x)))\n",
    "#temp['lemma'] = temp['lemma'].apply(lambda x: x.text)\n",
    "temp.drop_duplicates(subset=['lemma', 'children'])"
   ]
  },
  {
   "cell_type": "markdown",
   "metadata": {
    "ExecuteTime": {
     "end_time": "2018-08-07T14:31:59.613539Z",
     "start_time": "2018-08-07T14:31:59.597539Z"
    }
   },
   "source": [
    "## Try to match types and set as entity\n",
    "https://stackoverflow.com/questions/49097804/spacy-entity-from-phrasematcher-only"
   ]
  },
  {
   "cell_type": "code",
   "execution_count": null,
   "metadata": {},
   "outputs": [],
   "source": [
    "from spacy.matcher import PhraseMatcher, Matcher\n",
    "from spacy.tokens import Span\n",
    "\n",
    "class EntityPhraseMatcher(object):\n",
    "    '''https://stackoverflow.com/questions/49097804/spacy-entity-from-phrasematcher-only'''\n",
    "    \n",
    "    name = 'entity_phrase_matcher'\n",
    "\n",
    "    def __init__(self, nlp, terms, label):\n",
    "        patterns = [nlp(term) for term in terms]\n",
    "        self.matcher = PhraseMatcher(nlp.vocab)\n",
    "        self.matcher.add(label, None, *patterns)\n",
    "\n",
    "    def __call__(self, doc):\n",
    "        matches = self.matcher(doc)\n",
    "        spans = []\n",
    "        for label, start, end in matches:\n",
    "            span = Span(doc, start, end, label=label)\n",
    "            spans.append(span)\n",
    "        doc.ents = spans\n",
    "        return doc\n",
    "    \n",
    "class EntityMatcher(object):\n",
    "    name = 'entity_matcher'\n",
    "\n",
    "    def __init__(self, nlp, dict_label_terms):\n",
    "        '''dict_label_terms shoould be a dictionary in the format\n",
    "        {label(str): patterns(list)}'''\n",
    "        self.matcher = Matcher(nlp.vocab)\n",
    "        for label, patterns in dict_label_terms.items():\n",
    "            self.matcher.add(label, None, *patterns)\n",
    "\n",
    "    def __call__(self, doc):\n",
    "        matches = self.matcher(doc)\n",
    "        spans = []\n",
    "        for label, start, end in matches:\n",
    "            span = Span(doc, start, end, label=label)\n",
    "            spans.append(span)\n",
    "        doc.ents = spans\n",
    "        return doc"
   ]
  },
  {
   "cell_type": "code",
   "execution_count": null,
   "metadata": {},
   "outputs": [],
   "source": [
    "from collections import defaultdict\n",
    "#nlp.remove_pipe('ner')\n",
    "#nlp.remove_pipe('entity_matcher')\n",
    "#nlp.remove_pipe('ent_type_matcher')\n",
    "#nlp.remove_pipe('ent_subtype_matcher')\n",
    "#nlp.remove_pipe('ent_supertype_matcher')\n",
    "\n",
    "dict_label_terms = defaultdict(list)\n",
    "\n",
    "for typ in cards_types:\n",
    "    dict_label_terms['TYPE'].append([{'LOWER': t} for t in typ.lower().split()])\n",
    "for typ in cards_subtypes:\n",
    "    dict_label_terms['SUBTYPE'].append([{'LOWER': t} for t in typ.lower().split()])\n",
    "for typ in cards_supertypes:\n",
    "    dict_label_terms['SUPERTYPE'].append([{'LOWER': t} for t in typ.lower().split()])\n",
    "for typ in ['white','black','blue','white','red','colorless', 'multicolored', 'multicolor']:\n",
    "    dict_label_terms['COLOR'].append([{'LOWER': t} for t in typ.lower().split()])\n",
    "for abi in abilities:\n",
    "    dict_label_terms['ABILITY'].append([{'LOWER': abi} for t in abi.lower().split()])\n",
    "\n",
    "entity_matcher = EntityMatcher(nlp, dict_label_terms)\n",
    "nlp.add_pipe(entity_matcher)\n",
    "\n",
    "print(nlp.pipe_names)  # see all components in the pipeline"
   ]
  },
  {
   "cell_type": "code",
   "execution_count": null,
   "metadata": {},
   "outputs": [],
   "source": [
    "test_sents = []\n",
    "test_sents.append(test_phrase)\n",
    "test_sents.append('If a Sliver deals combat damage to a player, its controller may create a +1/+1 colorless Sliver creature token.')\n",
    "test_sents.append('Whenever a Sliver deals combat damage to a player, its controller may create a +1/+1 colorless Sliver creature token.')\n",
    "colorless = '\\n'.join([x for x in cards_df[cards_df['text'].str.contains('colorless').fillna(False)]['text'].iloc[:5]])\n",
    "test_sents.append(colorless)"
   ]
  },
  {
   "cell_type": "code",
   "execution_count": null,
   "metadata": {},
   "outputs": [],
   "source": [
    "doc = nlp('\\n'.join(test_sents))\n",
    "displacy.render(doc, style='ent', jupyter=True)"
   ]
  },
  {
   "cell_type": "code",
   "execution_count": null,
   "metadata": {},
   "outputs": [],
   "source": [
    "options = {'compact': False,\n",
    "          'collapse_punct': False}\n",
    "displacy.render(doc, style='dep', jupyter=True, options=options)"
   ]
  },
  {
   "cell_type": "code",
   "execution_count": null,
   "metadata": {},
   "outputs": [],
   "source": [
    "sents = []\n",
    "for sent in doc.sents:\n",
    "    print(sent)\n",
    "    for tr in sent.subtree:\n",
    "        sentd = {\n",
    "            'word': tr,\n",
    "            'ancestors': [x for x in tr.ancestors],\n",
    "            'children': [x for x in tr.children],\n",
    "            'cluster': tr.cluster,\n",
    "            'conjuncts': [x for x in tr.conjuncts],\n",
    "            'dep': tr.dep_,\n",
    "            'ent_type': tr.ent_type_,\n",
    "            'head': tr.head,\n",
    "            'lemma': tr.lemma_,\n",
    "            'tag':tr.tag_\n",
    "        }\n",
    "        sents.append(sentd)\n",
    "        #print(sentd)\n",
    "        #print('\\n')\n",
    "df = pd.DataFrame(sents)\n",
    "#df"
   ]
  },
  {
   "cell_type": "code",
   "execution_count": null,
   "metadata": {},
   "outputs": [],
   "source": [
    "df[df['word'].apply(lambda x: x.lower_ in ['whenever', 'if', 'only', 'as'])]"
   ]
  },
  {
   "cell_type": "markdown",
   "metadata": {},
   "source": [
    "# Should we train a model for POSTAGGING?"
   ]
  },
  {
   "cell_type": "markdown",
   "metadata": {},
   "source": [
    "Not sure. Many verbs interpreted sometimes as nouns are also sometimes interpreted as verbs."
   ]
  },
  {
   "cell_type": "code",
   "execution_count": null,
   "metadata": {},
   "outputs": [],
   "source": [
    "sents = '\\n'.join([x for x in cards_df.sample(200)['text_preworked']])\n",
    "doc = nlp(sents)"
   ]
  },
  {
   "cell_type": "code",
   "execution_count": null,
   "metadata": {
    "scrolled": false
   },
   "outputs": [],
   "source": [
    "nouns = []\n",
    "for token in doc:\n",
    "    if token.pos_ == 'NOUN' and token.lower_ not in nouns:\n",
    "        nouns.append(token.lower_)\n",
    "nouns.sort()\n",
    "nouns\n",
    "# Nouns that should be verbs:\n",
    "# 'attacks', 'block', 'blocks', 'cast', 'control','controls', 'deal','deals', 'dies', 'enchant', 'flip', 'gain', 'gains', 'pay', 'return', 'sacrifice', 'shares', 'tap', 'untap'\n",
    "\n",
    "# Nouns that COULD be verbs:\n",
    "# 'counter(S)','exile'"
   ]
  },
  {
   "cell_type": "code",
   "execution_count": null,
   "metadata": {
    "scrolled": false
   },
   "outputs": [],
   "source": [
    "verbs = []\n",
    "for token in doc:\n",
    "    if token.pos_ == 'VERB' and token.lower_ not in verbs:\n",
    "        verbs.append(token.lower_)\n",
    "verbs.sort()\n",
    "verbs"
   ]
  },
  {
   "cell_type": "markdown",
   "metadata": {},
   "source": [
    "## Get predictions ins a format easy to correct and feed back as training data"
   ]
  },
  {
   "cell_type": "markdown",
   "metadata": {},
   "source": [
    "Check here https://spacy.io/usage/training#training-simple-style.\n",
    "\n",
    "It should be easy to train a model, as long as we have a fre things in place"
   ]
  },
  {
   "cell_type": "markdown",
   "metadata": {},
   "source": [
    "Build tables like:\n",
    "card | sentence | token0 | token1 | ... | tokenN\n",
    "card | sentence | tag0 | tag1 | ... | tagN\n",
    "card | sentence | deps0 | deps1 | ... | depsN\n",
    "card | sentence | head0 | head1 | ... | headN"
   ]
  },
  {
   "cell_type": "code",
   "execution_count": null,
   "metadata": {},
   "outputs": [],
   "source": [
    "cards_df.columns"
   ]
  },
  {
   "cell_type": "code",
   "execution_count": null,
   "metadata": {},
   "outputs": [],
   "source": [
    "from copy import deepcopy\n",
    "tokens = []\n",
    "tags = []\n",
    "deps = []\n",
    "head_ids = []\n",
    "card_counter=0\n",
    "for idx, card in cards_df.sample(200).iterrows():\n",
    "    card_counter+=1\n",
    "    if not card_counter%40: print(card_counter)\n",
    "    for sentence in card['text_preworked'].split('\\n'):\n",
    "        doc = nlp(sentence)\n",
    "        basics = {\n",
    "                'card': card['name'],\n",
    "                'sentence': sentence,\n",
    "            }\n",
    "        toks, tag, dep, head = deepcopy(basics), deepcopy(basics), deepcopy(basics), deepcopy(basics)\n",
    "        for i, tok in enumerate(doc):\n",
    "            toks.update({'{0:04d}'.format(i): tok.text})\n",
    "            tag.update({'{0:04d}'.format(i): tok.tag_})\n",
    "            dep.update({'{0:04d}'.format(i): tok.dep_})\n",
    "            head.update({'{0:04d}'.format(i): tok.head.i})\n",
    "        tokens.append(toks)\n",
    "        tags.append(tag)\n",
    "        deps.append(dep)\n",
    "        head_ids.append(head)\n",
    "            \n",
    "df_tokens = pd.DataFrame(tokens)\n",
    "df_tags = pd.DataFrame(tags)\n",
    "df_deps = pd.DataFrame(deps)\n",
    "df_head_ids = pd.DataFrame(head_ids)\n",
    "\n",
    "display(df_tokens.head(2), df_tags.head(2), df_deps.head(2), df_head_ids.head(2))"
   ]
  },
  {
   "cell_type": "code",
   "execution_count": null,
   "metadata": {},
   "outputs": [],
   "source": []
  },
  {
   "cell_type": "markdown",
   "metadata": {},
   "source": [
    "# NLTK testing"
   ]
  },
  {
   "cell_type": "code",
   "execution_count": null,
   "metadata": {},
   "outputs": [],
   "source": [
    "nltk.download('all')"
   ]
  },
  {
   "cell_type": "code",
   "execution_count": null,
   "metadata": {},
   "outputs": [],
   "source": [
    "# https://www.nltk.org/book/ch10.html section 5.2\n",
    "dt = nltk.DiscourseTester(['A student dances', 'Every student is a person'])\n",
    "dt.readings()\n"
   ]
  },
  {
   "cell_type": "code",
   "execution_count": null,
   "metadata": {},
   "outputs": [],
   "source": [
    "dt.add_sentence('No person dances', consistchk=True)"
   ]
  },
  {
   "cell_type": "code",
   "execution_count": null,
   "metadata": {},
   "outputs": [],
   "source": [
    "dt.retract_sentence('No person dances', verbose=True)"
   ]
  },
  {
   "cell_type": "code",
   "execution_count": null,
   "metadata": {},
   "outputs": [],
   "source": [
    "dt.add_sentence('A person dances', informchk=True)"
   ]
  },
  {
   "cell_type": "code",
   "execution_count": null,
   "metadata": {},
   "outputs": [],
   "source": [
    "from nltk.tag import RegexpTagger\n",
    "tagger = RegexpTagger(\n",
    "    [('^(chases|runs)$', 'VB'),\n",
    "     ('^(a)$', 'ex_quant'),\n",
    "     ('^(every)$', 'univ_quant'),\n",
    "     ('^(dog|boy)$', 'NN'),\n",
    "     ('^(He)$', 'PRP')\n",
    "])\n",
    "rc = nltk.DrtGlueReadingCommand(depparser=nltk.MaltParser(tagger=tagger))\n",
    "dt = nltk.DiscourseTester(['Every dog chases a boy', 'He runs'], rc)\n",
    "dt.readings()"
   ]
  },
  {
   "cell_type": "markdown",
   "metadata": {
    "ExecuteTime": {
     "end_time": "2018-08-11T01:14:36.068237Z",
     "start_time": "2018-08-11T01:14:36.065157Z"
    }
   },
   "source": [
    "# Spacy learning"
   ]
  },
  {
   "cell_type": "code",
   "execution_count": null,
   "metadata": {},
   "outputs": [],
   "source": [
    "test_sentence = \"Next week I'll   be in Madrid. Maybe.\"\n",
    "doc = nlp(test_sentence)\n",
    "for token in doc:\n",
    "    print(\"{0}\\t{1}\\t{2}\\t{3}\\t{4}\\t{5}\\t{6}\\t{7}\".format(\n",
    "        token.text,\n",
    "        token.idx,\n",
    "        token.lemma_,\n",
    "        token.is_punct,\n",
    "        token.is_space,\n",
    "        token.shape_,\n",
    "        token.pos_,\n",
    "        token.tag_\n",
    "    ))\n",
    "    \n",
    "for sent in doc.sents:\n",
    "    print(sent)\n",
    "    \n",
    "print([(token.text, token.tag_) for token in doc])\n",
    "\n",
    "for ent in doc.ents:\n",
    "    print(ent.text, ent.label_)"
   ]
  },
  {
   "cell_type": "code",
   "execution_count": null,
   "metadata": {},
   "outputs": [],
   "source": [
    "from spacy import displacy\n",
    " \n",
    "doc = nlp('I just bought 2 shares at 9 a.m. because the stock went up 30% in just 2 days according to the WSJ')\n",
    "displacy.render(doc, style='ent', jupyter=True)"
   ]
  },
  {
   "cell_type": "code",
   "execution_count": null,
   "metadata": {},
   "outputs": [],
   "source": [
    "# Noun phrases\n",
    "doc = nlp(\"Wall Street Journal just published an interesting piece on crypto currencies\")\n",
    "for chunk in doc.noun_chunks:\n",
    "    print(chunk.text, chunk.label_, chunk.root.text)"
   ]
  },
  {
   "cell_type": "code",
   "execution_count": null,
   "metadata": {},
   "outputs": [],
   "source": [
    "# Dependency parser\n",
    "doc = nlp('Wall Street Journal just published an interesting piece on crypto currencies')\n",
    " \n",
    "for token in doc:\n",
    "    print(\"{0}/{1} <--{2}-- {3}/{4}\".format(\n",
    "        token.text, token.tag_, token.dep_, token.head.text, token.head.tag_))"
   ]
  },
  {
   "cell_type": "code",
   "execution_count": null,
   "metadata": {},
   "outputs": [],
   "source": [
    "doc = nlp('Wall Street Journal just published an interesting piece on crypto currencies')\n",
    "displacy.render(doc, style='dep', jupyter=True, options={'distance': 90})\n"
   ]
  },
  {
   "cell_type": "code",
   "execution_count": null,
   "metadata": {},
   "outputs": [],
   "source": [
    "doc = nlp(test_sentence)\n",
    "displacy.render(doc, style='dep', jupyter=True, options={'distance': 90})\n"
   ]
  },
  {
   "cell_type": "code",
   "execution_count": null,
   "metadata": {},
   "outputs": [],
   "source": [
    "nlp = spacy.load('en_core_web_lg')\n",
    "print(nlp.vocab['banana'].vector)"
   ]
  }
 ],
 "metadata": {
  "hide_input": false,
  "kernelspec": {
   "display_name": "Python [conda env:mtgnltk]",
   "language": "python",
   "name": "conda-env-mtgnltk-py"
  },
  "language_info": {
   "codemirror_mode": {
    "name": "ipython",
    "version": 3
   },
   "file_extension": ".py",
   "mimetype": "text/x-python",
   "name": "python",
   "nbconvert_exporter": "python",
   "pygments_lexer": "ipython3",
   "version": "3.6.6"
  },
  "toc": {
   "base_numbering": 1,
   "nav_menu": {},
   "number_sections": true,
   "sideBar": true,
   "skip_h1_title": false,
   "title_cell": "Table of Contents",
   "title_sidebar": "Contents",
   "toc_cell": false,
   "toc_position": {
    "height": "calc(100% - 180px)",
    "left": "10px",
    "top": "150px",
    "width": "203.594px"
   },
   "toc_section_display": true,
   "toc_window_display": true
  },
  "varInspector": {
   "cols": {
    "lenName": 16,
    "lenType": 16,
    "lenVar": 40
   },
   "kernels_config": {
    "python": {
     "delete_cmd_postfix": "",
     "delete_cmd_prefix": "del ",
     "library": "var_list.py",
     "varRefreshCmd": "print(var_dic_list())"
    },
    "r": {
     "delete_cmd_postfix": ") ",
     "delete_cmd_prefix": "rm(",
     "library": "var_list.r",
     "varRefreshCmd": "cat(var_dic_list()) "
    }
   },
   "position": {
    "height": "455px",
    "left": "1008px",
    "right": "20px",
    "top": "120px",
    "width": "355px"
   },
   "types_to_exclude": [
    "module",
    "function",
    "builtin_function_or_method",
    "instance",
    "_Feature"
   ],
   "window_display": false
  }
 },
 "nbformat": 4,
 "nbformat_minor": 2
}
